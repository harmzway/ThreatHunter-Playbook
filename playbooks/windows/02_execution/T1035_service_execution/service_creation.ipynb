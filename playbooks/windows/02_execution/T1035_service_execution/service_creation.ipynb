{
 "cells": [
  {
   "cell_type": "markdown",
   "metadata": {},
   "source": [
    "# Service Creation\n",
    "\n",
    "## Playbook Tags\n",
    "\n",
    "**ID:** WINEXEC190813181010\n",
    "\n",
    "**Author:** Roberto Rodriguez [@Cyb3rWard0g](https://twitter.com/Cyb3rWard0g)\n",
    "\n",
    "**References:**\n",
    "\n",
    "## ATT&CK Tags\n",
    "\n",
    "**Tactic:** Execution\n",
    "\n",
    "**Technique:** Service Execution (T1035)\n",
    "\n",
    "## Applies To\n",
    "\n",
    "## Technical Description\n",
    "\n",
    "Adversaries may execute a binary, command, or script via a method that interacts with Windows services, such as the Service Control Manager. This can be done by by adversaries creating a new service. \n",
    "\n",
    "## Permission Required\n",
    "\n",
    "Administrator\n",
    "\n",
    "## Hypothesis\n",
    "\n",
    "Adversaries might be creating new services to execute code on a compromised endpoint in my environment\n",
    "\n",
    "## Attack Simulation Dataset\n",
    "\n",
    "| Environment| Name | Description |\n",
    "|--------|---------|---------|\n",
    "| [Shire](https://github.com/Cyb3rWard0g/mordor/tree/acf9f6be6a386783a20139ceb2faf8146378d603/environment/shire) | [empire_invoke_psexec](https://github.com/Cyb3rWard0g/mordor/blob/master/small_datasets/windows/execution/service_execution_T1035/empire_invoke_psexec.md) | A mordor dataset to simulate an adversary creating a service |\n",
    "\n",
    "## Recommended Data Sources\n",
    "\n",
    "| Event ID | Event Name | Log Provider | Audit Category | Audit Sub-Category | ATT&CK Data Source |\n",
    "|---------|---------|----------|----------|---------|---------|\n",
    "| [4697](https://docs.microsoft.com/en-us/windows/security/threat-protection/auditing/event-4697) | A service was installed in the system | Microsoft-Windows-Security-Auditing | | | Windows Services |"
   ]
  },
  {
   "cell_type": "markdown",
   "metadata": {},
   "source": [
    "## Data Analytics\n",
    "### Initialize Analytics Engine"
   ]
  },
  {
   "cell_type": "code",
   "execution_count": 1,
   "metadata": {},
   "outputs": [],
   "source": [
    "from openhunt.logparser import winlogbeat\n",
    "from pyspark.sql import SparkSession"
   ]
  },
  {
   "cell_type": "code",
   "execution_count": 2,
   "metadata": {},
   "outputs": [
    {
     "name": "stdout",
     "output_type": "stream",
     "text": [
      "<pyspark.sql.session.SparkSession object at 0x7fe1375a9198>\n"
     ]
    }
   ],
   "source": [
    "win = winlogbeat()\n",
    "spark = SparkSession.builder.appName(\"Mordor\").config(\"spark.sql.caseSensitive\", \"True\").getOrCreate()\n",
    "print(spark)"
   ]
  },
  {
   "cell_type": "markdown",
   "metadata": {},
   "source": [
    "#### Prepare & Process Mordor File"
   ]
  },
  {
   "cell_type": "code",
   "execution_count": 3,
   "metadata": {},
   "outputs": [
    {
     "name": "stdout",
     "output_type": "stream",
     "text": [
      "[+] Processing a Spark DataFrame..\n",
      "[+] Reading Mordor file..\n",
      "[+] Processing Data from Winlogbeat version 6..\n",
      "[+] DataFrame Returned !\n"
     ]
    }
   ],
   "source": [
    "mordor_file = win.extract_nested_fields(\"mordor/small_datasets/empire_invoke_psexec_2019-05-18210652.json\",spark)"
   ]
  },
  {
   "cell_type": "markdown",
   "metadata": {},
   "source": [
    "#### Register Mordor DataFrame as a SQL temporary view"
   ]
  },
  {
   "cell_type": "code",
   "execution_count": 4,
   "metadata": {},
   "outputs": [],
   "source": [
    "mordor_file.createOrReplaceTempView(\"mordor_file\")"
   ]
  },
  {
   "cell_type": "markdown",
   "metadata": {},
   "source": [
    "### Validate Analytic I\n",
    "| FP Rate | Source | Analytic Logic | Description |\n",
    "|--------|---------|---------|---------|\n",
    "| Low | Sysmon | SELECT `@timestamp`, computer_name, SubjectUserName ServiceName, ServiceType, ServiceStartType, ServiceAccount FROM mordor_file WHERE channel = \"Security\"AND event_id = 4697| Look for new services being created in your environment and stack the values of it |"
   ]
  },
  {
   "cell_type": "code",
   "execution_count": 5,
   "metadata": {},
   "outputs": [
    {
     "name": "stdout",
     "output_type": "stream",
     "text": [
      "+------------------------+---------------+-----------+-----------+----------------+--------------+\n",
      "|@timestamp              |computer_name  |ServiceName|ServiceType|ServiceStartType|ServiceAccount|\n",
      "+------------------------+---------------+-----------+-----------+----------------+--------------+\n",
      "|2019-05-18T21:07:23.035Z|IT001.shire.com|pgustavo   |0x10       |3               |LocalSystem   |\n",
      "+------------------------+---------------+-----------+-----------+----------------+--------------+\n",
      "\n"
     ]
    }
   ],
   "source": [
    "security_service_df = spark.sql(\n",
    "    '''\n",
    "    SELECT `@timestamp`, computer_name, SubjectUserName ServiceName, ServiceType, ServiceStartType, ServiceAccount\n",
    "    FROM mordor_file\n",
    "    WHERE channel = \"Security\"\n",
    "        AND event_id = 4697\n",
    "    '''\n",
    ")\n",
    "security_service_df.show(20,False)"
   ]
  },
  {
   "cell_type": "markdown",
   "metadata": {},
   "source": [
    "## Detection Blind Spots\n",
    "\n",
    "## Hunter Notes\n",
    "\n",
    "* If there are a lot of unique services being created in your environment, try to categorize the data based on the bussiness unit.\n",
    "* Identify the source of unique services being created everyday. I have seen Microsoft applications doing this.\n",
    "* Stack the values of the service file name associated with the new service.\n",
    "* Document what users create new services across your environment on a daily basis\n",
    "\n",
    "## Hunt Output\n",
    "\n",
    "## References\n",
    "\n",
    "* https://www.powershellempire.com/?page_id=523"
   ]
  },
  {
   "cell_type": "code",
   "execution_count": null,
   "metadata": {},
   "outputs": [],
   "source": []
  }
 ],
 "metadata": {
  "kernelspec": {
   "display_name": "PySpark_Python3",
   "language": "python",
   "name": "pyspark3"
  },
  "language_info": {
   "codemirror_mode": {
    "name": "ipython",
    "version": 3
   },
   "file_extension": ".py",
   "mimetype": "text/x-python",
   "name": "python",
   "nbconvert_exporter": "python",
   "pygments_lexer": "ipython3",
   "version": "3.7.3"
  }
 },
 "nbformat": 4,
 "nbformat_minor": 4
}
