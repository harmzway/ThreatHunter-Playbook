{
 "cells": [
  {
   "cell_type": "markdown",
   "metadata": {},
   "source": [
    "# WMI Module Load\n",
    "\n",
    "## Playbook Tags\n",
    "\n",
    "**ID:** WINEXEC190811201010\n",
    "\n",
    "**Author:** Roberto Rodriguez [@Cyb3rWard0g](https://twitter.com/Cyb3rWard0g)\n",
    "\n",
    "**References:**\n",
    "\n",
    "## ATT&CK Tags\n",
    "\n",
    "**Tactic:** Execution\n",
    "\n",
    "**Technique:** Windows Management Instrumentation (T1047)\n",
    "\n",
    "## Applies To\n",
    "\n",
    "## Technical Description\n",
    "\n",
    "WMI is the Microsoft implementation of the Web-Based Enterprise Management (WBEM) and Common Information Model (CIM). Both standards aim to provide an industry-agnostic means of collecting and transmitting information related to any managed component in an enterprise. An example of a managed component in WMI would be a running process, registry key, installed service, file information, etc. At a high level, Microsoft’s implementation of these standards can be summarized as follows: Managed Components Managed components are represented as WMI objects — class instances representing highly structured operating system data. Microsoft provides a wealth of WMI objects that communicate information related to the operating system. E.g. Win32_Process, Win32_Service, AntiVirusProduct, Win32_StartupCommand, etc.\n",
    "\n",
    "WMI modules loaded by legit processes such as wmiprvse.exe or wmiapsrv.exe are the following:\n",
    "\n",
    "* C:\\Windows\\System32\\wmiclnt.dll      \n",
    "* C:\\Windows\\System32\\wbem\\WmiApRpl.dll\n",
    "* C:\\Windows\\System32\\wbem\\wmiprov.dll\n",
    "* C:\\Windows\\System32\\wbem\\wmiutils.dll\n",
    "\n",
    "Adversaries could leverage the WMI modules above to execute WMI tasks bypassing controls looking for wmiprvse.exe or wmiapsrv.exe activity.\n",
    "\n",
    "## Permission Required\n",
    "\n",
    "User\n",
    "\n",
    "## Hypothesis\n",
    "\n",
    "Adversaries might be leveraging WMI modules to execute WMI tasks bypassing controls monitoring for wmiprvse.exe or wmiapsrv.exe activity\n",
    "\n",
    "## Attack Simulation Dataset\n",
    "\n",
    "| Environment| Name | Description |\n",
    "|--------|---------|---------|\n",
    "| [Shire](https://github.com/Cyb3rWard0g/mordor/tree/acf9f6be6a386783a20139ceb2faf8146378d603/environment/shire) | [empire_psinject](https://github.com/Cyb3rWard0g/mordor/blob/master/small_datasets/windows/defense_evasion/process_injection_T1055/empire_psinject.md) | A mordor dataset to simulate the use of WMI modules loaded by unknown processes |\n",
    "\n",
    "## Recommended Data Sources\n",
    "\n",
    "| Event ID | Event Name | Log Provider | Audit Category | Audit Sub-Category | ATT&CK Data Source |\n",
    "|---------|---------|----------|----------|---------|---------|\n",
    "| [7](https://github.com/Cyb3rWard0g/OSSEM/blob/master/data_dictionaries/windows/sysmon/event-7.md) | Image Loaded | Microsoft-Windows-Sysmon | | | Loaded DLLs |"
   ]
  },
  {
   "cell_type": "markdown",
   "metadata": {},
   "source": [
    "## Data Analytics\n",
    "### Initialize Analytics Engine"
   ]
  },
  {
   "cell_type": "code",
   "execution_count": 1,
   "metadata": {},
   "outputs": [],
   "source": [
    "from openhunt.logparser import winlogbeat\n",
    "from pyspark.sql import SparkSession"
   ]
  },
  {
   "cell_type": "code",
   "execution_count": 2,
   "metadata": {},
   "outputs": [
    {
     "name": "stdout",
     "output_type": "stream",
     "text": [
      "<pyspark.sql.session.SparkSession object at 0x7fb60f161ef0>\n"
     ]
    }
   ],
   "source": [
    "win = winlogbeat()\n",
    "spark = SparkSession.builder.appName(\"Mordor\").config(\"spark.sql.caseSensitive\", \"True\").getOrCreate()\n",
    "print(spark)"
   ]
  },
  {
   "cell_type": "markdown",
   "metadata": {},
   "source": [
    "#### Prepare & Process Mordor File"
   ]
  },
  {
   "cell_type": "code",
   "execution_count": 3,
   "metadata": {},
   "outputs": [
    {
     "name": "stdout",
     "output_type": "stream",
     "text": [
      "[+] Processing a Spark DataFrame..\n",
      "[+] Reading Mordor file..\n",
      "[+] Processing Data from Winlogbeat version 6..\n",
      "[+] DataFrame Returned !\n"
     ]
    }
   ],
   "source": [
    "mordor_file = win.extract_nested_fields(\"mordor/small_datasets/empire_psinject_2019-05-18200432.json\",spark)"
   ]
  },
  {
   "cell_type": "markdown",
   "metadata": {},
   "source": [
    "#### Register Mordor DataFrame as a SQL temporary view"
   ]
  },
  {
   "cell_type": "code",
   "execution_count": 4,
   "metadata": {},
   "outputs": [],
   "source": [
    "mordor_file.createOrReplaceTempView(\"mordor_file\")"
   ]
  },
  {
   "cell_type": "markdown",
   "metadata": {},
   "source": [
    "### Validate Analytic I\n",
    "| FP Rate | Source | Analytic Logic | Description |\n",
    "|--------|---------|---------|---------|\n",
    "| Low | Sysmon | SELECT `@timestamp`, computer_name, Image, ImageLoaded FROM mordor_file WHERE channel = \"Microsoft-Windows-Sysmon/Operational\" AND event_id = 7 AND (lower(ImageLoaded) LIKE \"%wmiclnt.dll\" OR lower(ImageLoaded) LIKE \"%WmiApRpl.dll\" OR lower(ImageLoaded) LIKE \"%wmiprov.dll\" OR lower(ImageLoaded) LIKE \"%wmiutils.dll\" OR lower(ImageLoaded) LIKE \"%wbemcomn.dll\" OR lower(ImageLoaded) LIKE \"%WMINet_Utils.dll\" OR lower(ImageLoaded) LIKE \"%wbemsvc.dll\" OR lower(ImageLoaded) LIKE \"%fastprox.dll\" OR lower(Description) LIKE \"%wmi%\") AND NOT (lower(Image) LIKE \"%wmiprvse.exe\" OR lower(Image) LIKE \"%wmiapsrv.exe\" OR lower(Image) LIKE \"%svchost.exe\")| Look for processes (non wmiprvse.exe or WmiApSrv.exe) loading wmi modules |"
   ]
  },
  {
   "cell_type": "code",
   "execution_count": 5,
   "metadata": {},
   "outputs": [
    {
     "name": "stdout",
     "output_type": "stream",
     "text": [
      "+------------------------+---------------+-------------------------------+----------------------------------------------------------------+\n",
      "|@timestamp              |computer_name  |Image                          |ImageLoaded                                                     |\n",
      "+------------------------+---------------+-------------------------------+----------------------------------------------------------------+\n",
      "|2019-05-18T20:05:06.207Z|HR001.shire.com|C:\\Windows\\System32\\notepad.exe|C:\\Windows\\System32\\wbem\\wmiutils.dll                           |\n",
      "|2019-05-18T20:05:06.207Z|HR001.shire.com|C:\\Windows\\System32\\notepad.exe|C:\\Windows\\System32\\wbemcomn.dll                                |\n",
      "|2019-05-18T20:05:06.268Z|HR001.shire.com|C:\\Windows\\System32\\notepad.exe|C:\\Windows\\System32\\wbem\\wbemprox.dll                           |\n",
      "|2019-05-18T20:05:06.269Z|HR001.shire.com|C:\\Windows\\System32\\notepad.exe|C:\\Windows\\Microsoft.NET\\Framework64\\v2.0.50727\\WMINet_Utils.dll|\n",
      "|2019-05-18T20:05:06.346Z|HR001.shire.com|C:\\Windows\\System32\\notepad.exe|C:\\Windows\\System32\\wbem\\wbemsvc.dll                            |\n",
      "|2019-05-18T20:05:06.363Z|HR001.shire.com|C:\\Windows\\System32\\notepad.exe|C:\\Windows\\System32\\wbem\\fastprox.dll                           |\n",
      "+------------------------+---------------+-------------------------------+----------------------------------------------------------------+\n",
      "\n"
     ]
    }
   ],
   "source": [
    "security_module_df = spark.sql(\n",
    "    '''\n",
    "    SELECT `@timestamp`, computer_name, Image, ImageLoaded\n",
    "    FROM mordor_file\n",
    "    WHERE channel = \"Microsoft-Windows-Sysmon/Operational\"\n",
    "        AND event_id = 7\n",
    "        AND (\n",
    "            lower(ImageLoaded) LIKE \"%wmiclnt.dll\"\n",
    "            OR lower(ImageLoaded) LIKE \"%WmiApRpl.dll\"\n",
    "            OR lower(ImageLoaded) LIKE \"%wmiprov.dll\"\n",
    "            OR lower(ImageLoaded) LIKE \"%wmiutils.dll\"\n",
    "            OR lower(ImageLoaded) LIKE \"%wbemcomn.dll\"\n",
    "            OR lower(ImageLoaded) LIKE \"%WMINet_Utils.dll\"\n",
    "            OR lower(ImageLoaded) LIKE \"%wbemsvc.dll\"\n",
    "            OR lower(ImageLoaded) LIKE \"%fastprox.dll\"\n",
    "            OR lower(Description) LIKE \"%wmi%\"\n",
    "        )\n",
    "        AND NOT (\n",
    "            lower(Image) LIKE \"%wmiprvse.exe\"\n",
    "            OR lower(Image) LIKE \"%wmiapsrv.exe\"\n",
    "            OR lower(Image) LIKE \"%svchost.exe\"\n",
    "        )\n",
    "    '''\n",
    ")\n",
    "security_module_df.show(20,False)"
   ]
  },
  {
   "cell_type": "markdown",
   "metadata": {},
   "source": [
    "## Detection Blind Spots\n",
    "\n",
    "## Hunter Notes\n",
    "\n",
    "* Stack the processes loading WMI modules and document the activity in your environment.\n",
    "* Stack child processes (if any) of non wmiprvse.exe loading wmi modules\n",
    "\n",
    "## Hunt Output\n",
    "\n",
    "| Category | Type | Name |\n",
    "|--------|---------|---------|\n",
    "| Signature | Sigma Rule | [sysmon_wmi_module_load.yml](https://github.com/Cyb3rWard0g/ThreatHunter-Playbook/tree/master/signatures/sigma/sysmon_wmi_module_load.yml) |\n",
    "\n",
    "## References\n",
    "\n",
    "* https://posts.specterops.io/threat-hunting-with-jupyter-notebooks-part-4-sql-join-via-apache-sparksql-6630928c931e\n",
    "* https://posts.specterops.io/real-time-sysmon-processing-via-ksql-and-helk-part-3-basic-use-case-8fbf383cb54f"
   ]
  },
  {
   "cell_type": "code",
   "execution_count": null,
   "metadata": {},
   "outputs": [],
   "source": []
  }
 ],
 "metadata": {
  "kernelspec": {
   "display_name": "PySpark_Python3",
   "language": "python",
   "name": "pyspark3"
  },
  "language_info": {
   "codemirror_mode": {
    "name": "ipython",
    "version": 3
   },
   "file_extension": ".py",
   "mimetype": "text/x-python",
   "name": "python",
   "nbconvert_exporter": "python",
   "pygments_lexer": "ipython3",
   "version": "3.7.3"
  }
 },
 "nbformat": 4,
 "nbformat_minor": 4
}
