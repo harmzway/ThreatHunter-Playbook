{
 "cells": [
  {
   "cell_type": "markdown",
   "metadata": {},
   "source": [
    "# Alternate PowerShell Hosts\n",
    "\n",
    "## Playbook Tags\n",
    "\n",
    "**ID:** WINEXEC190610201010\n",
    "\n",
    "**Author:** Roberto Rodriguez [@Cyb3rWard0g](https://twitter.com/Cyb3rWard0g)\n",
    "\n",
    "**References:** WINEXEC1904101010\n",
    "\n",
    "## ATT&CK Tags\n",
    "\n",
    "**Tactic:** Execution\n",
    "\n",
    "**Technique:** PowerShell (T1086)\n",
    "\n",
    "## Applies To\n",
    "\n",
    "## Technical Description\n",
    "\n",
    "Adversaries can abuse alternate signed PowerShell Hosts to evade application whitelisting solutions that block powershell.exe and naive logging based upon traditional PowerShell hosts.\n",
    "\n",
    "Characteristics of a PowerShell host (Matt Graeber @mattifestation):\n",
    "\n",
    "* These binaries are almost always C#/.NET .exes/.dlls\n",
    "* These binaries have System.Management.Automation.dll as a referenced assembly\n",
    "* These may not always be “built in” binaries\n",
    "\n",
    "## Permission Required\n",
    "\n",
    "User\n",
    "\n",
    "## Hypothesis\n",
    "\n",
    "Adversaries might be leveraging alternate PowerShell Hosts to execute PowerShell evading traditional PowerShell detections that look for powershell.exe in my environment.\n",
    "\n",
    "## Attack Simulation Dataset\n",
    "\n",
    "| Environment| Name | Description |\n",
    "|--------|---------|---------|\n",
    "| [Shire](https://github.com/Cyb3rWard0g/mordor/tree/acf9f6be6a386783a20139ceb2faf8146378d603/environment/shire) | [empire_invoke_psremoting](https://github.com/Cyb3rWard0g/mordor/blob/acf9f6be6a386783a20139ceb2faf8146378d603/small_datasets/windows/execution/powershell_T1086/empire_invoke_psremoting.md) | A mordor dataset to simulate adversaries moving laterally via PSRemoting |\n",
    "\n",
    "## Recommended Data Sources\n",
    "\n",
    "| Event ID | Event Name | Log Provider | Audit Category | Audit Sub-Category | ATT&CK Data Source |\n",
    "|---------|---------|----------|----------|---------|---------|\n",
    "| [400](https://github.com/Cyb3rWard0g/OSSEM/blob/master/data_dictionaries/windows/powershell/events/event-400.md) | Engine Lifecycle | Windows PowerShell | - | - | PowerShell Logs |\n",
    "| [4103](https://github.com/Cyb3rWard0g/OSSEM/blob/master/data_dictionaries/windows/powershell/events/event-4103.md) | Module Logging | Microsoft-Windows-PowerShell | - | - | PowerShell Logs |\n",
    "| [7](https://github.com/Cyb3rWard0g/OSSEM/blob/master/data_dictionaries/windows/sysmon/event-7.md) | Image Loaded | Microsoft-Windows-Sysmon | - | - | Loaded DLLs |\n",
    "| [17](https://github.com/Cyb3rWard0g/OSSEM/blob/master/data_dictionaries/windows/sysmon/event-7.md) | Pipe Created | Microsoft-Windows-Sysmon | - | - | Named Pipes |"
   ]
  },
  {
   "cell_type": "markdown",
   "metadata": {},
   "source": [
    "## Data Analytics\n",
    "### Initialize Analytics Engine"
   ]
  },
  {
   "cell_type": "code",
   "execution_count": 1,
   "metadata": {},
   "outputs": [],
   "source": [
    "from openhunt.logparser import winlogbeat\n",
    "from pyspark.sql import SparkSession"
   ]
  },
  {
   "cell_type": "code",
   "execution_count": 2,
   "metadata": {},
   "outputs": [
    {
     "name": "stdout",
     "output_type": "stream",
     "text": [
      "<pyspark.sql.session.SparkSession object at 0x7f7b85658128>\n"
     ]
    }
   ],
   "source": [
    "win = winlogbeat()\n",
    "spark = SparkSession.builder.appName(\"Mordor\").config(\"spark.sql.caseSensitive\", \"True\").getOrCreate()\n",
    "print(spark)"
   ]
  },
  {
   "cell_type": "markdown",
   "metadata": {},
   "source": [
    "#### Prepare & Process Mordor File"
   ]
  },
  {
   "cell_type": "code",
   "execution_count": 3,
   "metadata": {},
   "outputs": [
    {
     "name": "stdout",
     "output_type": "stream",
     "text": [
      "[+] Processing a Spark DataFrame..\n",
      "[+] Reading Mordor file..\n",
      "[+] Processing Data from Winlogbeat version 6..\n",
      "[+] DataFrame Returned !\n"
     ]
    }
   ],
   "source": [
    "mordor_file = win.extract_nested_fields(\"mordor/small_datasets/empire_invoke_psremoting_2019-05-18211456.json\",spark)"
   ]
  },
  {
   "cell_type": "markdown",
   "metadata": {},
   "source": [
    "#### Register Mordor DataFrame as a SQL temporary view"
   ]
  },
  {
   "cell_type": "code",
   "execution_count": 4,
   "metadata": {},
   "outputs": [],
   "source": [
    "mordor_file.createOrReplaceTempView(\"mordor_file\")"
   ]
  },
  {
   "cell_type": "markdown",
   "metadata": {},
   "source": [
    "### Validate Analytic I\n",
    "| FP Rate | Source | Analytic Logic | Description |\n",
    "|--------|---------|---------|---------|\n",
    "| Medium | PowerShell | SELECT `@timestamp`, computer_name, channel FROM mordor_file WHERE (channel = \"Microsoft-Windows-PowerShell/Operational\" OR channel = \"Windows PowerShell\") AND (event_id = 400 OR event_id = 4103) AND NOT message LIKE \"%Host Application%powershell%\" | Within the classic PowerShell log, event ID 400 indicates when a new PowerShell host process has started. Excluding PowerShell.exe is a good way to find alternate PowerShell hosts |"
   ]
  },
  {
   "cell_type": "code",
   "execution_count": 5,
   "metadata": {},
   "outputs": [
    {
     "name": "stdout",
     "output_type": "stream",
     "text": [
      "+------------------------+---------------+----------------------------------------+\n",
      "|@timestamp              |computer_name  |channel                                 |\n",
      "+------------------------+---------------+----------------------------------------+\n",
      "|2019-05-18T21:15:35.402Z|IT001.shire.com|Windows PowerShell                      |\n",
      "|2019-05-18T21:15:36.218Z|IT001.shire.com|Microsoft-Windows-PowerShell/Operational|\n",
      "|2019-05-18T21:15:36.621Z|IT001.shire.com|Windows PowerShell                      |\n",
      "+------------------------+---------------+----------------------------------------+\n",
      "\n"
     ]
    }
   ],
   "source": [
    "powershell_df = spark.sql(\n",
    "    '''\n",
    "    SELECT `@timestamp`, computer_name, channel\n",
    "    FROM mordor_file\n",
    "    WHERE (channel = \"Microsoft-Windows-PowerShell/Operational\" OR channel = \"Windows PowerShell\")\n",
    "        AND (event_id = 400 OR event_id = 4103)\n",
    "        AND NOT message LIKE \"%Host Application%powershell%\"\n",
    "    '''\n",
    ")\n",
    "powershell_df.show(5,False)"
   ]
  },
  {
   "cell_type": "markdown",
   "metadata": {},
   "source": [
    "### Validate Analytic II\n",
    "| FP Rate | Source | Analytic Logic | Description |\n",
    "|--------|---------|---------|---------|\n",
    "| Medium | Sysmon |  SELECT `@timestamp`, computer_name, Image, Description FROM mordor_file WHERE channel = \"Microsoft-Windows-Sysmon/Operational\" AND event_id = 7 AND (lower(Description) = \"system.management.automation\"OR lower(ImageLoaded) LIKE \"%system.management.automation%\") AND NOT Image LIKE \"%powershell.exe\"  | Looking for processes loading a specific PowerShell DLL is a very effective way to document the use of PowerShell in your environment |"
   ]
  },
  {
   "cell_type": "code",
   "execution_count": 6,
   "metadata": {},
   "outputs": [
    {
     "name": "stdout",
     "output_type": "stream",
     "text": [
      "+------------------------+---------------+-----------------------------------+----------------------------+\n",
      "|@timestamp              |computer_name  |Image                              |Description                 |\n",
      "+------------------------+---------------+-----------------------------------+----------------------------+\n",
      "|2019-05-18T21:15:34.976Z|IT001.shire.com|C:\\Windows\\System32\\wsmprovhost.exe|System.Management.Automation|\n",
      "+------------------------+---------------+-----------------------------------+----------------------------+\n",
      "\n"
     ]
    }
   ],
   "source": [
    "sysmon_moduleload_df = spark.sql(\n",
    "    '''\n",
    "    SELECT `@timestamp`, computer_name, Image, Description\n",
    "    FROM mordor_file\n",
    "    WHERE channel = \"Microsoft-Windows-Sysmon/Operational\"\n",
    "        AND event_id = 7\n",
    "        AND (lower(Description) = \"system.management.automation\" OR lower(ImageLoaded) LIKE \"%system.management.automation%\")\n",
    "        AND NOT Image LIKE \"%powershell.exe\"\n",
    "    '''\n",
    ")\n",
    "sysmon_moduleload_df.show(10,False)"
   ]
  },
  {
   "cell_type": "markdown",
   "metadata": {},
   "source": [
    "### Validate Analytic III\n",
    "| FP Rate | Source | Analytic Logic | Description |\n",
    "|--------|---------|---------|---------|\n",
    "| Low | Sysmon |  SELECT `@timestamp`, computer_name, Image, PipeName FROM mordor_file WHERE channel = \"Microsoft-Windows-Sysmon/Operational\" AND event_id = 17 AND lower(PipeName) LIKE \"\\\\\\\\\\pshost%\" AND NOT Image LIKE \"%powershell.exe\" | Monitoring for PSHost* pipes is another interesting way to find other alternate PowerShell hosts in your environment. |"
   ]
  },
  {
   "cell_type": "code",
   "execution_count": 7,
   "metadata": {},
   "outputs": [
    {
     "name": "stdout",
     "output_type": "stream",
     "text": [
      "+------------------------+---------------+-----------------------------------+------------------------------------------------------------+\n",
      "|@timestamp              |computer_name  |Image                              |PipeName                                                    |\n",
      "+------------------------+---------------+-----------------------------------+------------------------------------------------------------+\n",
      "|2019-05-18T21:15:35.332Z|IT001.shire.com|C:\\Windows\\system32\\wsmprovhost.exe|\\PSHost.132026877346088188.2632.DefaultAppDomain.wsmprovhost|\n",
      "+------------------------+---------------+-----------------------------------+------------------------------------------------------------+\n",
      "\n"
     ]
    }
   ],
   "source": [
    "sysmon_pipe_df = spark.sql(\n",
    "    '''\n",
    "    SELECT `@timestamp`, computer_name, Image, PipeName\n",
    "    FROM mordor_file\n",
    "    WHERE channel = \"Microsoft-Windows-Sysmon/Operational\"\n",
    "        AND event_id = 17\n",
    "        AND lower(PipeName) LIKE \"\\\\\\pshost%\"\n",
    "        AND NOT Image LIKE \"%powershell.exe\"\n",
    "    '''\n",
    ")\n",
    "sysmon_pipe_df.show(10,False)"
   ]
  },
  {
   "cell_type": "markdown",
   "metadata": {},
   "source": [
    "## Detection Blind Spots\n",
    "\n",
    "## Hunter Notes\n",
    "\n",
    "* Explore the data produced in your lab environment with the analytics above and document what normal looks like from alternate powershell hosts. Then, take your findings and explore your production environment.\n",
    "* You can also run the script below named PowerShellHostFinder.ps1 by Matt Graber and audit PS host binaries in your environment.\n",
    "\n",
    "## Hunt Output\n",
    "\n",
    "| Category | Type | Name |\n",
    "|--------|---------|---------|\n",
    "| Signature | Sigma Rule | [powershell_alternate_powershell_hosts.yml](https://github.com/Cyb3rWard0g/ThreatHunter-Playbook/tree/master/signatures/sigma/powershell_alternate_powershell_hosts.yml) |\n",
    "| Signature | Sigma Rule | [sysmon_alternate_powershell_hosts_moduleload.yml](https://github.com/Cyb3rWard0g/ThreatHunter-Playbook/tree/master/signatures/sigma/sysmon_alternate_powershell_hosts_moduleload.yml) |\n",
    "| Signature | Sigma Rule | [sysmon_alternate_powershell_hosts_pipe.yml](https://github.com/Cyb3rWard0g/ThreatHunter-Playbook/tree/master/signatures/sigma/sysmon_alternate_powershell_hosts_pipe.yml) |\n",
    "\n",
    "## References\n",
    "\n",
    "* https://twitter.com/mattifestation/status/971840487882506240\n",
    "* https://gist.githubusercontent.com/mattifestation/fcae777470f1bdeb9e4b32f93c245fd3/raw/abbe79c660829ab9aad58581baf681655f6ba305/PowerShellHostFinder.ps1"
   ]
  }
 ],
 "metadata": {
  "kernelspec": {
   "display_name": "PySpark_Python3",
   "language": "python",
   "name": "pyspark3"
  },
  "language_info": {
   "codemirror_mode": {
    "name": "ipython",
    "version": 3
   },
   "file_extension": ".py",
   "mimetype": "text/x-python",
   "name": "python",
   "nbconvert_exporter": "python",
   "pygments_lexer": "ipython3",
   "version": "3.7.3"
  }
 },
 "nbformat": 4,
 "nbformat_minor": 4
}
