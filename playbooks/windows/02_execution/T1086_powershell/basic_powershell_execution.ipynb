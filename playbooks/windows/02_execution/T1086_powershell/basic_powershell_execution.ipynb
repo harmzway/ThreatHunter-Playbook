{
 "cells": [
  {
   "cell_type": "markdown",
   "metadata": {},
   "source": [
    "# Basic PowerShell Execution\n",
    "\n",
    "## Playbook Tags\n",
    "\n",
    "**ID:** WINEXEC1905101511\n",
    "\n",
    "**Author:** Roberto Rodriguez [@Cyb3rWard0g](https://twitter.com/Cyb3rWard0g)\n",
    "\n",
    "**References:**\n",
    "\n",
    "## ATT&CK Tags\n",
    "\n",
    "**Tactic:** Execution\n",
    "\n",
    "**Technique:** PowerShell (T1086)\n",
    "\n",
    "## Applies To\n",
    "\n",
    "## Technical Description\n",
    "\n",
    "Adversaries can use PowerShell to perform a number of actions, including discovery of information and execution of code. Therefore, it is important to understand the basic artifacts left when PowerShell is used in your environment.\n",
    "\n",
    "## Permission Required\n",
    "\n",
    "User\n",
    "\n",
    "## Hypothesis\n",
    "\n",
    "Adversaries might be leveraging PowerShell to execute code within my environment\n",
    "\n",
    "## Attack Simulation Dataset\n",
    "\n",
    "| Environment| Name | Description |\n",
    "|--------|---------|---------|\n",
    "| [Shire](https://github.com/Cyb3rWard0g/mordor/tree/acf9f6be6a386783a20139ceb2faf8146378d603/environment/shire) | [empire_launcher_vbs](https://github.com/Cyb3rWard0g/mordor/blob/acf9f6be6a386783a20139ceb2faf8146378d603/small_datasets/windows/execution/scripting_T1064/empire_launcher_vbs.md) | A mordor dataset to simulate execution of PowerShell not interactively |\n",
    "\n",
    "## Recommended Data Sources\n",
    "\n",
    "| Event ID | Event Name | Log Provider | Audit Category | Audit Sub-Category | ATT&CK Data Source |\n",
    "|---------|---------|----------|----------|---------|---------|\n",
    "| [4688](https://github.com/Cyb3rWard0g/OSSEM/blob/master/data_dictionaries/windows/security/events/event-4688.md) | A new process has been created | Microsoft-Windows-Security-Auditing | Detailed Tracking | Process Creation | Windows Event Logs |\n",
    "| [1](https://github.com/Cyb3rWard0g/OSSEM/blob/master/data_dictionaries/windows/sysmon/event-1.md) | Process Creation | Microsoft-Windows-Sysmon | | | Process Monitoring |\n",
    "| [7](https://github.com/Cyb3rWard0g/OSSEM/blob/master/data_dictionaries/windows/sysmon/event-7.md) | Image Loaded | Microsoft-Windows-Sysmon | | | Loaded DLLs |\n",
    "| [17](https://github.com/Cyb3rWard0g/OSSEM/blob/master/data_dictionaries/windows/sysmon/event-7.md) | Pipe Created | Microsoft-Windows-Sysmon | | | Named Pipes |\n",
    "| [400](https://github.com/Cyb3rWard0g/OSSEM/blob/master/data_dictionaries/windows/powershell/events/event-400.md) | Engine Lifecycle | Windows PowerShell | | | PowerShell Logs |\n",
    "| 53504 | PowerShell Named Pipe IPC | Microsoft-Windows-PowerShell | | | PowerShell Logs |"
   ]
  },
  {
   "cell_type": "markdown",
   "metadata": {},
   "source": [
    "## Data Analytics\n",
    "### Initialize Analytics Engine"
   ]
  },
  {
   "cell_type": "code",
   "execution_count": 1,
   "metadata": {},
   "outputs": [],
   "source": [
    "from openhunt.logparser import winlogbeat\n",
    "from pyspark.sql import SparkSession"
   ]
  },
  {
   "cell_type": "code",
   "execution_count": 2,
   "metadata": {},
   "outputs": [
    {
     "name": "stdout",
     "output_type": "stream",
     "text": [
      "<pyspark.sql.session.SparkSession object at 0x7fa2333af128>\n"
     ]
    }
   ],
   "source": [
    "win = winlogbeat()\n",
    "spark = SparkSession.builder.appName(\"Mordor\").config(\"spark.sql.caseSensitive\", \"True\").getOrCreate()\n",
    "print(spark)"
   ]
  },
  {
   "cell_type": "markdown",
   "metadata": {},
   "source": [
    "#### Prepare & Process Mordor File"
   ]
  },
  {
   "cell_type": "code",
   "execution_count": 3,
   "metadata": {},
   "outputs": [
    {
     "name": "stdout",
     "output_type": "stream",
     "text": [
      "[+] Processing a Spark DataFrame..\n",
      "[+] Reading Mordor file..\n",
      "[+] Processing Data from Winlogbeat version 6..\n",
      "[+] DataFrame Returned !\n"
     ]
    }
   ],
   "source": [
    "mordor_file = win.extract_nested_fields(\"mordor/small_datasets/empire_launcher_vbs_2019-05-18182022.json\",spark)"
   ]
  },
  {
   "cell_type": "markdown",
   "metadata": {},
   "source": [
    "#### Register Mordor DataFrame as a SQL temporary view"
   ]
  },
  {
   "cell_type": "code",
   "execution_count": 4,
   "metadata": {},
   "outputs": [],
   "source": [
    "mordor_file.createOrReplaceTempView(\"mordor_file\")"
   ]
  },
  {
   "cell_type": "markdown",
   "metadata": {},
   "source": [
    "### Validate Analytic I\n",
    "| FP Rate | Source | Analytic Logic | Description |\n",
    "|--------|---------|---------|---------|\n",
    "| Medium | PowerShell | SELECT `@timestamp`, computer_name, channel FROM mordor_file WHERE (channel = \"Microsoft-Windows-PowerShell/Operational\" OR channel = \"Windows PowerShell\") AND (event_id = 400 OR event_id = 4103) | Within the classic PowerShell log, event ID 400 indicates when a new PowerShell host process has started. You can filter on powershell.exe as a host application if you want to or leave it without a filter to captuer every single PowerShell host |"
   ]
  },
  {
   "cell_type": "code",
   "execution_count": 5,
   "metadata": {},
   "outputs": [
    {
     "name": "stdout",
     "output_type": "stream",
     "text": [
      "+------------------------+---------------+----------------------------------------+\n",
      "|@timestamp              |computer_name  |channel                                 |\n",
      "+------------------------+---------------+----------------------------------------+\n",
      "|2019-05-18T18:20:49.575Z|HR001.shire.com|Windows PowerShell                      |\n",
      "|2019-05-18T18:20:50.108Z|HR001.shire.com|Microsoft-Windows-PowerShell/Operational|\n",
      "|2019-05-18T18:20:50.963Z|HR001.shire.com|Microsoft-Windows-PowerShell/Operational|\n",
      "|2019-05-18T18:20:50.984Z|HR001.shire.com|Microsoft-Windows-PowerShell/Operational|\n",
      "|2019-05-18T18:20:50.989Z|HR001.shire.com|Microsoft-Windows-PowerShell/Operational|\n",
      "+------------------------+---------------+----------------------------------------+\n",
      "only showing top 5 rows\n",
      "\n"
     ]
    }
   ],
   "source": [
    "powershell_df = spark.sql(\n",
    "    '''\n",
    "    SELECT `@timestamp`, computer_name, channel\n",
    "    FROM mordor_file\n",
    "    WHERE (channel = \"Microsoft-Windows-PowerShell/Operational\" OR channel = \"Windows PowerShell\")\n",
    "        AND (event_id = 400 OR event_id = 4103)\n",
    "    '''\n",
    ")\n",
    "powershell_df.show(5,False)"
   ]
  },
  {
   "cell_type": "markdown",
   "metadata": {},
   "source": [
    "### Validate Analytic II\n",
    "| FP Rate | Source | Analytic Logic | Description |\n",
    "|--------|---------|---------|---------|\n",
    "| High | Security | SELECT `@timestamp`, computer_name, NewProcessName, ParentProcessName FROM mordor_file WHERE channel = \"Security\" AND event_id = 4688 AND NewProcessName LIKE \"%powershell.exe\" AND NOT ParentProcessName LIKE \"%explorer.exe\" | Looking for non-interactive powershell session might be a sign of PowerShell being executed by another application in the background |"
   ]
  },
  {
   "cell_type": "code",
   "execution_count": 6,
   "metadata": {},
   "outputs": [
    {
     "name": "stdout",
     "output_type": "stream",
     "text": [
      "+------------------------+---------------+---------------------------------------------------------+-------------------------------+\n",
      "|@timestamp              |computer_name  |NewProcessName                                           |ParentProcessName              |\n",
      "+------------------------+---------------+---------------------------------------------------------+-------------------------------+\n",
      "|2019-05-18T18:20:46.325Z|HR001.shire.com|C:\\Windows\\System32\\WindowsPowerShell\\v1.0\\powershell.exe|C:\\Windows\\System32\\wscript.exe|\n",
      "+------------------------+---------------+---------------------------------------------------------+-------------------------------+\n",
      "\n"
     ]
    }
   ],
   "source": [
    "security_process_df = spark.sql(\n",
    "    '''\n",
    "    SELECT `@timestamp`, computer_name, NewProcessName, ParentProcessName\n",
    "    FROM mordor_file\n",
    "    WHERE channel = \"Security\"\n",
    "        AND event_id = 4688\n",
    "        AND NewProcessName LIKE \"%powershell.exe\"\n",
    "        AND NOT ParentProcessName LIKE \"%explorer.exe\"\n",
    "    '''\n",
    ")\n",
    "security_process_df.show(10,False)"
   ]
  },
  {
   "cell_type": "markdown",
   "metadata": {},
   "source": [
    "### Validate Analytic III\n",
    "| FP Rate | Source | Analytic Logic | Description |\n",
    "|--------|---------|---------|---------|\n",
    "| High | Sysmon | SELECT `@timestamp`, computer_name, Image, ParentImage FROM mordor_file WHERE channel = \"Microsoft-Windows-Sysmon/Operational\" AND event_id = 1 AND Image LIKE \"%powershell.exe\" AND NOT ParentImage LIKE \"%explorer.exe\" | Looking for non-interactive powershell session might be a sign of PowerShell being executed by another application in the background |"
   ]
  },
  {
   "cell_type": "code",
   "execution_count": 7,
   "metadata": {},
   "outputs": [
    {
     "name": "stdout",
     "output_type": "stream",
     "text": [
      "+------------------------+---------------+---------------------------------------------------------+-------------------------------+\n",
      "|@timestamp              |computer_name  |Image                                                    |ParentImage                    |\n",
      "+------------------------+---------------+---------------------------------------------------------+-------------------------------+\n",
      "|2019-05-18T18:20:46.353Z|HR001.shire.com|C:\\Windows\\System32\\WindowsPowerShell\\v1.0\\powershell.exe|C:\\Windows\\System32\\wscript.exe|\n",
      "+------------------------+---------------+---------------------------------------------------------+-------------------------------+\n",
      "\n"
     ]
    }
   ],
   "source": [
    "sysmon_process_df = spark.sql(\n",
    "    '''\n",
    "    SELECT `@timestamp`, computer_name, Image, ParentImage\n",
    "    FROM mordor_file\n",
    "    WHERE channel = \"Microsoft-Windows-Sysmon/Operational\"\n",
    "        AND event_id = 1\n",
    "        AND Image LIKE \"%powershell.exe\"\n",
    "        AND NOT ParentImage LIKE \"%explorer.exe\"\n",
    "    '''\n",
    ")\n",
    "sysmon_process_df.show(10,False)"
   ]
  },
  {
   "cell_type": "markdown",
   "metadata": {},
   "source": [
    "### Validate Analytic IV\n",
    "| FP Rate | Source | Analytic Logic | Description |\n",
    "|--------|---------|---------|---------|\n",
    "| Medium | Sysmon |  SELECT `@timestamp`, computer_name, Image, ImageLoaded FROM mordor_file WHERE channel = \"Microsoft-Windows-Sysmon/Operational\" AND event_id = 7 AND (lower(Description) = \"system.management.automation\" OR lower(ImageLoaded) LIKE \"%system.management.automation%\") | Monitor for processes loading PowerShell DLL \\*system.management.automation\\* | "
   ]
  },
  {
   "cell_type": "code",
   "execution_count": 8,
   "metadata": {},
   "outputs": [
    {
     "name": "stdout",
     "output_type": "stream",
     "text": [
      "+------------------------+---------------+---------------------------------------------------------+----------------------------------------------------------------------------------------------------------------------------------------+\n",
      "|@timestamp              |computer_name  |Image                                                    |ImageLoaded                                                                                                                             |\n",
      "+------------------------+---------------+---------------------------------------------------------+----------------------------------------------------------------------------------------------------------------------------------------+\n",
      "|2019-05-18T18:20:48.649Z|HR001.shire.com|C:\\Windows\\System32\\WindowsPowerShell\\v1.0\\powershell.exe|C:\\Windows\\assembly\\NativeImages_v4.0.30319_64\\System.Manaa57fc8cc#\\4d8d1c1917d666f594b51593ca041acb\\System.Management.Automation.ni.dll|\n",
      "+------------------------+---------------+---------------------------------------------------------+----------------------------------------------------------------------------------------------------------------------------------------+\n",
      "\n"
     ]
    }
   ],
   "source": [
    "sysmon_moduleload_df = spark.sql(\n",
    "    '''\n",
    "    SELECT `@timestamp`, computer_name, Image, ImageLoaded\n",
    "    FROM mordor_file\n",
    "    WHERE channel = \"Microsoft-Windows-Sysmon/Operational\"\n",
    "        AND event_id = 7\n",
    "        AND (lower(Description) = \"system.management.automation\" OR lower(ImageLoaded) LIKE \"%system.management.automation%\")\n",
    "    '''\n",
    ")\n",
    "sysmon_moduleload_df.show(10, False)"
   ]
  },
  {
   "cell_type": "markdown",
   "metadata": {},
   "source": [
    "### Validate Analytic V\n",
    "| FP Rate | Source | Analytic Logic | Description |\n",
    "|--------|---------|---------|---------|\n",
    "| Low | Sysmon |  SELECT * FROM sysmon_events WHERE event_id = 17 AND lower(PipeName) LIKE \"\\\\\\\\pshost%\" | Monitoring for PSHost* pipes is another interesting way to find PowerShell execution |"
   ]
  },
  {
   "cell_type": "code",
   "execution_count": 9,
   "metadata": {},
   "outputs": [
    {
     "name": "stdout",
     "output_type": "stream",
     "text": [
      "+------------------------+---------------+---------------------------------------------------------+-----------------------------------------------------------+\n",
      "|@timestamp              |computer_name  |Image                                                    |PipeName                                                   |\n",
      "+------------------------+---------------+---------------------------------------------------------+-----------------------------------------------------------+\n",
      "|2019-05-18T18:20:49.334Z|HR001.shire.com|C:\\Windows\\System32\\WindowsPowerShell\\v1.0\\powershell.exe|\\PSHost.132026772463256631.5172.DefaultAppDomain.powershell|\n",
      "+------------------------+---------------+---------------------------------------------------------+-----------------------------------------------------------+\n",
      "\n"
     ]
    }
   ],
   "source": [
    "sysmon_pipe_df = spark.sql(\n",
    "    '''\n",
    "    SELECT `@timestamp`, computer_name, Image, PipeName\n",
    "    FROM mordor_file\n",
    "    WHERE channel = \"Microsoft-Windows-Sysmon/Operational\"\n",
    "        AND event_id = 17\n",
    "        AND lower(PipeName) LIKE \"\\\\\\\\pshost%\"\n",
    "    '''\n",
    ")\n",
    "sysmon_pipe_df.show(10,False)"
   ]
  },
  {
   "cell_type": "markdown",
   "metadata": {},
   "source": [
    "### Validate Analytic VI\n",
    "| FP Rate | Source | Analytic Logic | Description |\n",
    "|--------|---------|---------|---------|\n",
    "| High | PowerShell | SELECT `@timestamp`, computer_name, param1, param2 FROM mordor_file WHERE channel = \"Microsoft-Windows-PowerShell/Operational\" AND event_id = 53504 | The “PowerShell Named Pipe IPC” event will indicate the name of the PowerShell AppDomain that started. Sign of PowerShell execution |"
   ]
  },
  {
   "cell_type": "code",
   "execution_count": 10,
   "metadata": {},
   "outputs": [
    {
     "name": "stdout",
     "output_type": "stream",
     "text": [
      "+------------------------+---------------+-------------------------------------------------------------------------------------------------------+\n",
      "|@timestamp              |computer_name  |message                                                                                                |\n",
      "+------------------------+---------------+-------------------------------------------------------------------------------------------------------+\n",
      "|2019-05-18T18:20:49.470Z|HR001.shire.com|Windows PowerShell has started an IPC listening thread on process: 5172 in AppDomain: DefaultAppDomain.|\n",
      "+------------------------+---------------+-------------------------------------------------------------------------------------------------------+\n",
      "\n"
     ]
    }
   ],
   "source": [
    "powershell_df = spark.sql(\n",
    "    '''\n",
    "    SELECT `@timestamp`, computer_name, message\n",
    "    FROM mordor_file\n",
    "    WHERE channel = \"Microsoft-Windows-PowerShell/Operational\"\n",
    "        AND event_id = 53504\n",
    "    '''\n",
    ")\n",
    "powershell_df.show(10,False)"
   ]
  },
  {
   "cell_type": "markdown",
   "metadata": {},
   "source": [
    "## Detection Blind Spots\n",
    "\n",
    "## Hunter Notes\n",
    "\n",
    "* Explore the data produced in your environment with the analytics above and document what normal looks like from a PowerShell perspective.\n",
    "* If execution of PowerShell happens all the time in your environment, I suggest to categorize the data you collect by business unit to build profiles and be able to filter out potential noise.\n",
    "* You can also stack the values of the command line arguments being used. You can hash the command line arguments too and stack the values.\n",
    "\n",
    "## Hunt Output\n",
    "\n",
    "| Category | Type |  Name |\n",
    "|--------|---------|---------|\n",
    "| Signature | Sigma Rule | [sysmon_powershell_execution_moduleload.yml](https://github.com/Cyb3rWard0g/ThreatHunter-Playbook/tree/master/signatures/sigma/sysmon_powershell_execution_moduleload.yml) |\n",
    "| Signature | Sigma Rule | [sysmon_powershell_execution_pipe.yml](https://github.com/Cyb3rWard0g/ThreatHunter-Playbook/tree/master/signatures/sigma/sysmon_powershell_execution_pipe.yml) |\n",
    "| Signature | Sigma Rule | [sysmon_non_interactive_powershell_execution.yml](https://github.com/Cyb3rWard0g/ThreatHunter-Playbook/tree/master/signatures/sigma/sysmon_non_interactive_powershell_execution.yml) |\n",
    "| Signature | Sigma Rule | [win_non_interactive_powershell.yml](https://github.com/Cyb3rWard0g/ThreatHunter-Playbook/tree/master/signatures/sigma/win_non_interactive_powershell.yml) |\n",
    "\n",
    "## References\n",
    "\n",
    "* https://github.com/darkoperator/Presentations/blob/master/PSConfEU%202019%20Tracking%20PowerShell%20Usage.pdf\n",
    "* https://posts.specterops.io/abusing-powershell-desired-state-configuration-for-lateral-movement-ca42ddbe6f06"
   ]
  }
 ],
 "metadata": {
  "kernelspec": {
   "display_name": "PySpark_Python3",
   "language": "python",
   "name": "pyspark3"
  },
  "language_info": {
   "codemirror_mode": {
    "name": "ipython",
    "version": 3
   },
   "file_extension": ".py",
   "mimetype": "text/x-python",
   "name": "python",
   "nbconvert_exporter": "python",
   "pygments_lexer": "ipython3",
   "version": "3.7.3"
  }
 },
 "nbformat": 4,
 "nbformat_minor": 4
}
