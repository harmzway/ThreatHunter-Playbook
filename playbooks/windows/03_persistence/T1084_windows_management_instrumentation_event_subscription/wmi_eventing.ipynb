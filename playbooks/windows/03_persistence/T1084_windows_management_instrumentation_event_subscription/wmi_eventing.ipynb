{
 "cells": [
  {
   "cell_type": "markdown",
   "metadata": {},
   "source": [
    "# WMI Eventing\n",
    "\n",
    "## Playbook Tags\n",
    "\n",
    "**ID:** WINPERS190810170510\n",
    "\n",
    "**Author:** Roberto Rodriguez [@Cyb3rWard0g](https://twitter.com/Cyb3rWard0g)\n",
    "\n",
    "**References:** \n",
    "\n",
    "## ATT&CK Tags\n",
    "\n",
    "**Tactic:** Persistence\n",
    "\n",
    "**Technique:** Windows Management Instrumentation Event Subscription (T1055)\n",
    "\n",
    "## Applies To\n",
    "\n",
    "## Technical Description\n",
    "\n",
    "WMI is the Microsoft implementation of the Web-Based Enterprise Management (WBEM) and Common Information Model (CIM). Both standards aim to provide an industry-agnostic means of collecting and transmitting information related to any managed component in an enterprise. An example of a managed component in WMI would be a running process, registry key, installed service, file information, etc. At a high level, Microsoft’s implementation of these standards can be summarized as follows: Managed Components Managed components are represented as WMI objects — class instances representing highly structured operating system data. Microsoft provides a wealth of WMI objects that communicate information related to the operating system. E.g. Win32_Process, Win32_Service, AntiVirusProduct, Win32_StartupCommand, etc.\n",
    "\n",
    "From an offensive perspective WMI has the ability to trigger off nearly any conceivable event, making it a good technique for persistence.\n",
    "\n",
    "Three requirements\n",
    "* Filter – An action to trigger off of\n",
    "* Consumer – An action to take upon triggering the filter\n",
    "* Binding – Registers a FilterConsumer\n",
    "\n",
    "Local events run for the lifetime of the host process. Remember that permanent WMI events are persistent and run as SYSTEM.\n",
    "\n",
    "## Permission Required\n",
    "\n",
    "Administrator\n",
    "\n",
    "## Hypothesis\n",
    "\n",
    "Adversaries might be injecting a dll to another process to execute code via CreateRemoteThread and LoadLibrary functions. \n",
    "\n",
    "## Attack Simulation Dataset\n",
    "\n",
    "| Environment| Name | Description |\n",
    "|--------|---------|---------|\n",
    "| [Shire](https://github.com/Cyb3rWard0g/mordor/tree/acf9f6be6a386783a20139ceb2faf8146378d603/environment/shire) | [empire_elevated_wmi](https://github.com/Cyb3rWard0g/mordor/blob/master/small_datasets/windows/persistence/wmi_event_subscription_T1084/empire_elevated_wmi.md)  | A mordor dataset to simulate persistence using a permanent WMI subscription |\n",
    "\n",
    "## Recommended Data Sources\n",
    "\n",
    "| Event ID | Event Name | Log Provider | Audit Category | Audit Sub-Category | ATT&CK Data Source |\n",
    "|---------|---------|----------|----------|---------|---------|\n",
    "| [19](https://github.com/Cyb3rWard0g/OSSEM/blob/master/data_dictionaries/windows/sysmon/event-19.md) | WmiEventFilter activity detected | Microsoft-Windows-Sysmon | | |  |\n",
    "| [20](https://github.com/Cyb3rWard0g/OSSEM/blob/master/data_dictionaries/windows/sysmon/event-20.md) | WmiEventConsumer activity detected| Microsoft-Windows-Sysmon | | |  |\n",
    "| [21](https://github.com/Cyb3rWard0g/OSSEM/blob/master/data_dictionaries/windows/sysmon/event-10.md) | WmiEventConsumerToFilter activity detected | Microsoft-Windows-Sysmon | | |  |\n",
    "| 5861 | | | | |"
   ]
  },
  {
   "cell_type": "markdown",
   "metadata": {},
   "source": [
    "## Data Analytics\n",
    "### Initialize Analytics Engine"
   ]
  },
  {
   "cell_type": "code",
   "execution_count": 1,
   "metadata": {},
   "outputs": [],
   "source": [
    "from openhunt.logparser import winlogbeat\n",
    "from pyspark.sql import SparkSession"
   ]
  },
  {
   "cell_type": "code",
   "execution_count": 2,
   "metadata": {},
   "outputs": [
    {
     "name": "stdout",
     "output_type": "stream",
     "text": [
      "<pyspark.sql.session.SparkSession object at 0x7f9b1bfef1d0>\n"
     ]
    }
   ],
   "source": [
    "win = winlogbeat()\n",
    "spark = SparkSession.builder.appName(\"Mordor\").config(\"spark.sql.caseSensitive\", \"True\").getOrCreate()\n",
    "print(spark)"
   ]
  },
  {
   "cell_type": "markdown",
   "metadata": {},
   "source": [
    "#### Prepare & Process Mordor File"
   ]
  },
  {
   "cell_type": "code",
   "execution_count": 3,
   "metadata": {},
   "outputs": [
    {
     "name": "stdout",
     "output_type": "stream",
     "text": [
      "[+] Processing a Spark DataFrame..\n",
      "[+] Reading Mordor file..\n",
      "[+] Processing Data from Winlogbeat version 6..\n",
      "[+] DataFrame Returned !\n"
     ]
    }
   ],
   "source": [
    "mordor_file = win.extract_nested_fields(\"mordor/small_datasets/empire_elevated_wmi_2019-05-18184306.json\",spark)"
   ]
  },
  {
   "cell_type": "markdown",
   "metadata": {},
   "source": [
    "#### Register Mordor DataFrame as a SQL temporary view"
   ]
  },
  {
   "cell_type": "code",
   "execution_count": 4,
   "metadata": {},
   "outputs": [],
   "source": [
    "mordor_file.createOrReplaceTempView(\"mordor_file\")"
   ]
  },
  {
   "cell_type": "markdown",
   "metadata": {},
   "source": [
    "### Validate Analytic I\n",
    "| FP Rate | Source | Analytic Logic | Description |\n",
    "|--------|---------|---------|---------|\n",
    "| Low | Sysmon | SELECT `@timestamp`, computer_name, User, EventNamespace, Name, Query FROM mordor_file WHERE channel = \"Microsoft-Windows-Sysmon/Operational\" AND event_id = 19| Look for WMI event filters registered |"
   ]
  },
  {
   "cell_type": "code",
   "execution_count": 5,
   "metadata": {},
   "outputs": [
    {
     "name": "stdout",
     "output_type": "stream",
     "text": [
      "+------------------------+---------------+-------------+--------------+----------+----------------------------------------------------------------------------------------------------------------------------------------------------------------------------------------------------+\n",
      "|@timestamp              |computer_name  |User         |EventNamespace|Name      |Query                                                                                                                                                                                               |\n",
      "+------------------------+---------------+-------------+--------------+----------+----------------------------------------------------------------------------------------------------------------------------------------------------------------------------------------------------+\n",
      "|2019-05-18T18:43:40.305Z|HR001.shire.com|SHIRE\\nmartha| \"root\\\\CimV2\"| \"Updater\"| \"SELECT * FROM __InstanceModificationEvent WITHIN 60 WHERE TargetInstance ISA 'Win32_PerfFormattedData_PerfOS_System' AND TargetInstance.SystemUpTime >= 240 AND TargetInstance.SystemUpTime < 325\"|\n",
      "+------------------------+---------------+-------------+--------------+----------+----------------------------------------------------------------------------------------------------------------------------------------------------------------------------------------------------+\n",
      "\n"
     ]
    }
   ],
   "source": [
    "security_filter_df = spark.sql(\n",
    "    '''\n",
    "    SELECT `@timestamp`, computer_name, User, EventNamespace, Name, Query\n",
    "    FROM mordor_file\n",
    "    WHERE channel = \"Microsoft-Windows-Sysmon/Operational\"\n",
    "        AND event_id = 19\n",
    "    '''\n",
    ")\n",
    "security_filter_df.show(20,False)"
   ]
  },
  {
   "cell_type": "markdown",
   "metadata": {},
   "source": [
    "### Validate Analytic II\n",
    "| FP Rate | Source | Analytic Logic | Description |\n",
    "|--------|---------|---------|---------|\n",
    "| Low | Sysmon | SELECT `@timestamp`, computer_name, User, Name, Type, Destination FROM mordor_file WHERE channel = \"Microsoft-Windows-Sysmon/Operational\" AND event_id = 20 | Look for WMI event consumers registered |"
   ]
  },
  {
   "cell_type": "code",
   "execution_count": 6,
   "metadata": {},
   "outputs": [
    {
     "name": "stdout",
     "output_type": "stream",
     "text": [
      "+--------------------+---------------+-------------+----------+------------+--------------------+\n",
      "|          @timestamp|  computer_name|         User|      Name|        Type|         Destination|\n",
      "+--------------------+---------------+-------------+----------+------------+--------------------+\n",
      "|2019-05-18T18:43:...|HR001.shire.com|SHIRE\\nmartha| \"Updater\"|Command Line| \"C:\\\\Windows\\\\Sy...|\n",
      "+--------------------+---------------+-------------+----------+------------+--------------------+\n",
      "\n"
     ]
    }
   ],
   "source": [
    "security_consumer_df = spark.sql(\n",
    "    '''\n",
    "    SELECT `@timestamp`, computer_name, User, Name, Type, Destination\n",
    "    FROM mordor_file\n",
    "    WHERE channel = \"Microsoft-Windows-Sysmon/Operational\"\n",
    "        AND event_id = 20\n",
    "    '''\n",
    ")\n",
    "security_consumer_df.show(20)"
   ]
  },
  {
   "cell_type": "markdown",
   "metadata": {},
   "source": [
    "### Validate Analytic III\n",
    "| FP Rate | Source | Analytic Logic | Description |\n",
    "|--------|---------|---------|---------|\n",
    "| Low | Sysmon | SELECT `@timestamp`, computer_name, User, Operation, Consumer, Filter FROM mordor_file WHERE channel = \"Microsoft-Windows-Sysmon/Operational\" AND event_id = 21 | Look for WMI consumers binding to filters |"
   ]
  },
  {
   "cell_type": "code",
   "execution_count": 7,
   "metadata": {},
   "outputs": [
    {
     "name": "stdout",
     "output_type": "stream",
     "text": [
      "+------------------------+---------------+-------------+---------+--------------------------------------------+---------------------------------+\n",
      "|@timestamp              |computer_name  |User         |Operation|Consumer                                    |Filter                           |\n",
      "+------------------------+---------------+-------------+---------+--------------------------------------------+---------------------------------+\n",
      "|2019-05-18T18:43:45.451Z|HR001.shire.com|SHIRE\\nmartha|Created  | \"CommandLineEventConsumer.Name=\\\"Updater\\\"\"| \"__EventFilter.Name=\\\"Updater\\\"\"|\n",
      "+------------------------+---------------+-------------+---------+--------------------------------------------+---------------------------------+\n",
      "\n"
     ]
    }
   ],
   "source": [
    "security_bind_df = spark.sql(\n",
    "    '''\n",
    "    SELECT `@timestamp`, computer_name, User, Operation, Consumer, Filter\n",
    "    FROM mordor_file\n",
    "    WHERE channel = \"Microsoft-Windows-Sysmon/Operational\"\n",
    "        AND event_id = 21\n",
    "    '''\n",
    ")\n",
    "security_bind_df.show(20,False)"
   ]
  },
  {
   "cell_type": "markdown",
   "metadata": {},
   "source": [
    "### Validate Analytic IV\n",
    "| FP Rate | Source | Analytic Logic | Description |\n",
    "|--------|---------|---------|---------|\n",
    "| Low | Sysmon | SELECT `@timestamp`, computer_name, message FROM mordor_file WHERE channel = \"Microsoft-Windows-WMI-Activity/Operational\" AND event_id = 5861 | Look for events related to the registration of FilterToConsumerBinding |"
   ]
  },
  {
   "cell_type": "code",
   "execution_count": 8,
   "metadata": {},
   "outputs": [
    {
     "name": "stdout",
     "output_type": "stream",
     "text": [
      "+--------------------+---------------+--------------------+\n",
      "|          @timestamp|  computer_name|             message|\n",
      "+--------------------+---------------+--------------------+\n",
      "|2019-05-18T18:43:...|HR001.shire.com|Namespace = //./r...|\n",
      "+--------------------+---------------+--------------------+\n",
      "\n"
     ]
    }
   ],
   "source": [
    "security_bind_df = spark.sql(\n",
    "    '''\n",
    "    SELECT `@timestamp`, computer_name, message\n",
    "    FROM mordor_file\n",
    "    WHERE channel = \"Microsoft-Windows-WMI-Activity/Operational\"\n",
    "        AND event_id = 5861\n",
    "    '''\n",
    ")\n",
    "security_bind_df.show(20)"
   ]
  },
  {
   "cell_type": "markdown",
   "metadata": {},
   "source": [
    "## Detection Blind Spots\n",
    "\n",
    "## Hunter Notes\n",
    "\n",
    "## Hunt Output\n",
    "\n",
    "## References\n",
    "\n",
    "* https://www.blackhat.com/docs/us-15/materials/us-15-Graeber-Abusing-Windows-Management-Instrumentation-WMI-To-Build-A-Persistent%20Asynchronous-And-Fileless-Backdoor.pdf\n",
    "* https://twitter.com/mattifestation/status/899646620148539397\n",
    "* https://www.darkoperator.com/blog/2017/10/14/basics-of-tracking-wmi-activity"
   ]
  },
  {
   "cell_type": "code",
   "execution_count": null,
   "metadata": {},
   "outputs": [],
   "source": []
  }
 ],
 "metadata": {
  "kernelspec": {
   "display_name": "PySpark_Python3",
   "language": "python",
   "name": "pyspark3"
  },
  "language_info": {
   "codemirror_mode": {
    "name": "ipython",
    "version": 3
   },
   "file_extension": ".py",
   "mimetype": "text/x-python",
   "name": "python",
   "nbconvert_exporter": "python",
   "pygments_lexer": "ipython3",
   "version": "3.7.3"
  }
 },
 "nbformat": 4,
 "nbformat_minor": 4
}
