{
 "cells": [
  {
   "cell_type": "markdown",
   "metadata": {},
   "source": [
    "# Enable Remote Desktop Conections Registry\n",
    "\n",
    "## Playbook Tags\n",
    "\n",
    "**ID:** WINDEFE1904071833\n",
    "\n",
    "**Author:** Roberto Rodriguez [@Cyb3rWard0g](https://twitter.com/Cyb3rWard0g)\n",
    "\n",
    "**References:** \n",
    "\n",
    "## ATT&CK Tags\n",
    "\n",
    "**Tactic:** Defense Evasion\n",
    "\n",
    "**Technique:** Modify Registry (T1112)\n",
    "\n",
    "## Applies To\n",
    "\n",
    "## Technical Description\n",
    "\n",
    "Remote desktop is a common feature in operating systems. It allows a user to log into an interactive session with a system desktop graphical user interface on a remote system. Microsoft refers to its implementation of the Remote Desktop Protocol (RDP) as Remote Desktop Services (RDS).\n",
    "\n",
    "Adversaries may connect to a remote system over RDP/RDS to expand access if the service is enabled and allows access to accounts with known credentials. There are several settings that must be configured to enable Remote Desktop connections. First, you must enable Remote Desktop connections by using the `fDenyTSConnections` setting. Setting `fDenyTSConnections=False` in the `Microsoft-Windows-TerminalServices-LocalSessionManager` component (HKLM:\\\\SYSTEM\\\\CurrentControlSet\\\\Control\\\\Terminal Server) specifies whether Remote Desktop connections are enabled.\n",
    "\n",
    "An adversary can also specify how users are authenticated. Setting `UserAuthentication=0` in the `Microsoft-Windows-TerminalServices-RDP-WinStationExtensions` component (HKLM:\\\\System\\\\CurrentControlSet\\\\Control\\\\Terminal Server\\\\WinStations\\\\RDP-Tcp) helps make sure that users can connect remotely from computers that don't run Remote Desktop by using network-level authentication. This is the equivalent of `Allow connections from computers running any version of Remote Desktop (less secure)` security setting.\n",
    "\n",
    "## Permission Required\n",
    "\n",
    "Administrator\n",
    "\n",
    "## Hypothesis\n",
    "\n",
    "Adversaries might be enabling remote desktop connections by modifying registry key values of the Microsoft-Windows-TerminalServices services in my environment.\n",
    "\n",
    "## Attack Simulation Dataset\n",
    "\n",
    "| Environment| Name | Description |\n",
    "|--------|---------|---------|\n",
    "| [Shire](https://github.com/Cyb3rWard0g/mordor/tree/acf9f6be6a386783a20139ceb2faf8146378d603/environment/shire) | [empire_enable_rdp](https://github.com/Cyb3rWard0g/mordor/blob/master/small_datasets/windows/defense_evasion/modify_registry_T1112/empire_enable_rdp.md) | A mordor dataset to simulate the modification of registry key properties to enable RDP connections |\n",
    "\n",
    "## Recommended Data Sources\n",
    "\n",
    "| Event ID | Event Name | Log Provider | Audit Category | Audit Sub-Category | ATT&CK Data Source |\n",
    "|---------|---------|----------|----------|---------|---------|\n",
    "| [13](https://github.com/Cyb3rWard0g/OSSEM/blob/master/data_dictionaries/windows/sysmon/event-13.md) | RegistryEvent ValueSet| Microsoft-Windows-Sysmon |  |  | Windows Registry |"
   ]
  },
  {
   "cell_type": "markdown",
   "metadata": {},
   "source": [
    "## Data Analytics\n",
    "### Initialize Analytics Engine"
   ]
  },
  {
   "cell_type": "code",
   "execution_count": 1,
   "metadata": {},
   "outputs": [],
   "source": [
    "from openhunt.logparser import winlogbeat\n",
    "from pyspark.sql import SparkSession"
   ]
  },
  {
   "cell_type": "code",
   "execution_count": 2,
   "metadata": {},
   "outputs": [
    {
     "name": "stdout",
     "output_type": "stream",
     "text": [
      "<pyspark.sql.session.SparkSession object at 0x7f0b7c938f60>\n"
     ]
    }
   ],
   "source": [
    "win = winlogbeat()\n",
    "spark = SparkSession.builder.appName(\"Mordor\").config(\"spark.sql.caseSensitive\", \"True\").getOrCreate()\n",
    "print(spark)"
   ]
  },
  {
   "cell_type": "markdown",
   "metadata": {},
   "source": [
    "#### Prepare & Process Mordor File"
   ]
  },
  {
   "cell_type": "code",
   "execution_count": 3,
   "metadata": {},
   "outputs": [
    {
     "name": "stdout",
     "output_type": "stream",
     "text": [
      "[+] Processing a Spark DataFrame..\n",
      "[+] Reading Mordor file..\n",
      "[+] Processing Data from Winlogbeat version 6..\n",
      "[+] DataFrame Returned !\n"
     ]
    }
   ],
   "source": [
    "mordor_file = win.extract_nested_fields(\"mordor/small_datasets/empire_enable_rdp_2019-05-18203650.json\",spark)"
   ]
  },
  {
   "cell_type": "markdown",
   "metadata": {},
   "source": [
    "#### Register Mordor DataFrame as a SQL temporary view"
   ]
  },
  {
   "cell_type": "code",
   "execution_count": 4,
   "metadata": {},
   "outputs": [],
   "source": [
    "mordor_file.createOrReplaceTempView(\"mordor_file\")"
   ]
  },
  {
   "cell_type": "markdown",
   "metadata": {},
   "source": [
    "### Validate Analytic I\n",
    "| FP Rate | Source | Analytic Logic | Description |\n",
    "|--------|---------|---------|---------|\n",
    "| Rule | Sysmon | SELECT `@timestamp`, computer_name, Image, TargetObject FROM mordor_file WHERE channel = \"Microsoft-Windows-Sysmon/Operational\" AND event_id = 13 AND (TargetObject LIKE \"%fDenyTSConnections\" OR TargetObject LIKE \"%UserAuthentication\") AND Details = \"DWORD (0x00000000)\" |"
   ]
  },
  {
   "cell_type": "code",
   "execution_count": 5,
   "metadata": {},
   "outputs": [
    {
     "name": "stdout",
     "output_type": "stream",
     "text": [
      "+------------------------+---------------+---------------------------+--------------------------------------------------------------------------------------------+\n",
      "|@timestamp              |computer_name  |Image                      |TargetObject                                                                                |\n",
      "+------------------------+---------------+---------------------------+--------------------------------------------------------------------------------------------+\n",
      "|2019-05-18T20:37:10.411Z|HR001.shire.com|C:\\Windows\\system32\\reg.exe|HKLM\\System\\CurrentControlSet\\Control\\Terminal Server\\fDenyTSConnections                    |\n",
      "|2019-05-18T20:37:22.147Z|HR001.shire.com|C:\\Windows\\system32\\reg.exe|HKLM\\System\\CurrentControlSet\\Control\\Terminal Server\\WinStations\\RDP-Tcp\\UserAuthentication|\n",
      "+------------------------+---------------+---------------------------+--------------------------------------------------------------------------------------------+\n",
      "\n"
     ]
    }
   ],
   "source": [
    "sysmon_object_df = spark.sql(\n",
    "    '''\n",
    "    SELECT `@timestamp`, computer_name, Image, TargetObject\n",
    "    FROM mordor_file\n",
    "    WHERE channel = \"Microsoft-Windows-Sysmon/Operational\"\n",
    "        AND event_id = 13\n",
    "        AND (TargetObject LIKE \"%fDenyTSConnections\"\n",
    "            OR TargetObject LIKE \"%UserAuthentication\")\n",
    "        AND Details = \"DWORD (0x00000000)\"\n",
    "    '''\n",
    ")\n",
    "sysmon_object_df.show(10,False)"
   ]
  },
  {
   "cell_type": "markdown",
   "metadata": {},
   "source": [
    "## Detection Blind Spots\n",
    "\n",
    "## Hunter Notes\n",
    "\n",
    "* If the activity defined above happens frequently in your environment, you cshould Stack the processeses modifying the registry key values.\n",
    "\n",
    "## Hunt Output\n",
    "\n",
    "| Category | Output Type | Name |\n",
    "|--------|--------|---------|\n",
    "| Signature | Sigma Rule | [sysmon_rdp_registry_modification.yml](https://github.com/Cyb3rWard0g/ThreatHunter-Playbook/tree/master/signatures/sigma/sysmon_rdp_registry_modification.yml) |\n",
    "\n",
    "## References\n",
    "\n",
    "* https://attack.mitre.org/techniques/T1076/\n",
    "* https://github.com/EmpireProject/Empire/blob/master/lib/modules/powershell/management/enable_rdp.py\n",
    "* https://docs.microsoft.com/en-us/windows-hardware/customize/desktop/unattend/microsoft-windows-terminalservices-localsessionmanager-fdenytsconnections\n",
    "* https://docs.microsoft.com/en-us/windows-hardware/manufacture/desktop/enable-remote-desktop-by-using-an-answer-file"
   ]
  }
 ],
 "metadata": {
  "kernelspec": {
   "display_name": "PySpark_Python3",
   "language": "python",
   "name": "pyspark3"
  },
  "language_info": {
   "codemirror_mode": {
    "name": "ipython",
    "version": 3
   },
   "file_extension": ".py",
   "mimetype": "text/x-python",
   "name": "python",
   "nbconvert_exporter": "python",
   "pygments_lexer": "ipython3",
   "version": "3.7.3"
  }
 },
 "nbformat": 4,
 "nbformat_minor": 4
}
