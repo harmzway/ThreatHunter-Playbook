{
 "cells": [
  {
   "cell_type": "markdown",
   "metadata": {},
   "source": [
    "# WDigest Downgrade\n",
    "\n",
    "## Playbook Tags\n",
    "\n",
    "**ID:** WINDEFN1905102020\n",
    "\n",
    "**Author:** Roberto Rodriguez [@Cyb3rWard0g](https://twitter.com/Cyb3rWard0g)\n",
    "\n",
    "**References:** \n",
    "\n",
    "## ATT&CK Tags\n",
    "\n",
    "**Tactic:** Defense Evasion\n",
    "\n",
    "**Technique:** Modify Registry (T1112)\n",
    "\n",
    "## Applies To\n",
    "\n",
    "## Technical Description\n",
    "\n",
    "Windows 8.1 introduced a registry setting that allows for disabling the storage of the user’s logon credential in clear text for the WDigest provider. This setting can be modified in the property `UseLogonCredential` for the registry key HKLM:\\SYSTEM\\CurrentControlSet\\Control\\SecurityProviders\\WDigest. If this key does not exists, you can create it and set it to 1 to enable clear text passwords.\n",
    "\n",
    "## Permission Required\n",
    "\n",
    "Administrator\n",
    "\n",
    "## Hypothesis\n",
    "\n",
    "Adversaries might have updated the property value UseLogonCredential of HKLM:\\SYSTEM\\CurrentControlSet\\Control\\SecurityProviders\\WDigest to 1 in order to be able to extract clear text passwords from memory contents of lsass.\n",
    "\n",
    "## Attack Simulation Dataset\n",
    "\n",
    "| Environment| Name | Description |\n",
    "|--------|---------|---------|\n",
    "| [Shire](https://github.com/Cyb3rWard0g/mordor/tree/acf9f6be6a386783a20139ceb2faf8146378d603/environment/shire) | [empire_wdigest_downgrade](https://github.com/Cyb3rWard0g/mordor/blob/master/small_datasets/windows/defense_evasion/modify_registry_T1112/empire_wdigest_downgrade.md) | A mordor dataset to simulate the modification of the property value of UseLogonCredential from HKLM:\\SYSTEM\\CurrentControlSet\\Control\\SecurityProviders\\WDigest |\n",
    "\n",
    "## Recommended Data Sources\n",
    "\n",
    "| Event ID | Event Name | Log Provider | Audit Category | Audit Sub-Category | ATT&CK Data Source |\n",
    "|---------|---------|----------|----------|---------|---------|\n",
    "| [13](https://github.com/Cyb3rWard0g/OSSEM/blob/master/data_dictionaries/windows/sysmon/event-13.md) | RegistryEvent ValueSet| Microsoft-Windows-Sysmon |  |  | Windows Registry |"
   ]
  },
  {
   "cell_type": "markdown",
   "metadata": {},
   "source": [
    "## Data Analytics\n",
    "### Initialize Analytics Engine"
   ]
  },
  {
   "cell_type": "code",
   "execution_count": 1,
   "metadata": {},
   "outputs": [],
   "source": [
    "from openhunt.logparser import winlogbeat\n",
    "from pyspark.sql import SparkSession"
   ]
  },
  {
   "cell_type": "code",
   "execution_count": 2,
   "metadata": {},
   "outputs": [
    {
     "name": "stdout",
     "output_type": "stream",
     "text": [
      "<pyspark.sql.session.SparkSession object at 0x7f3afcf75f28>\n"
     ]
    }
   ],
   "source": [
    "win = winlogbeat()\n",
    "spark = SparkSession.builder.appName(\"Mordor\").config(\"spark.sql.caseSensitive\", \"True\").getOrCreate()\n",
    "print(spark)"
   ]
  },
  {
   "cell_type": "markdown",
   "metadata": {},
   "source": [
    "#### Prepare & Process Mordor File"
   ]
  },
  {
   "cell_type": "code",
   "execution_count": 3,
   "metadata": {},
   "outputs": [
    {
     "name": "stdout",
     "output_type": "stream",
     "text": [
      "[+] Processing a Spark DataFrame..\n",
      "[+] Reading Mordor file..\n",
      "[+] Processing Data from Winlogbeat version 6..\n",
      "[+] DataFrame Returned !\n"
     ]
    }
   ],
   "source": [
    "mordor_file = win.extract_nested_fields(\"mordor/small_datasets/empire_wdigest_downgrade_2019-05-18201922.json\",spark)"
   ]
  },
  {
   "cell_type": "markdown",
   "metadata": {},
   "source": [
    "#### Register Mordor DataFrame as a SQL temporary view"
   ]
  },
  {
   "cell_type": "code",
   "execution_count": 4,
   "metadata": {},
   "outputs": [],
   "source": [
    "mordor_file.createOrReplaceTempView(\"mordor_file\")"
   ]
  },
  {
   "cell_type": "markdown",
   "metadata": {},
   "source": [
    "### Validate Analytic I\n",
    "| FP Rate | Source | Analytic Logic | Description |\n",
    "|--------|---------|---------|---------|\n",
    "| Rule | Sysmon | SELECT `@timestamp`, computer_name, Image, TargetObject FROM mordor_file WHERE channel = \"Microsoft-Windows-Sysmon/Operational\" AND event_id = 13 AND TargetObject LIKE \"%UseLogonCredential\" AND Details = 1 |"
   ]
  },
  {
   "cell_type": "code",
   "execution_count": 5,
   "metadata": {},
   "outputs": [
    {
     "name": "stdout",
     "output_type": "stream",
     "text": [
      "+------------------------+---------------+---------------------------------------------------------+----------------------------------------------------------------------------------+\n",
      "|@timestamp              |computer_name  |Image                                                    |TargetObject                                                                      |\n",
      "+------------------------+---------------+---------------------------------------------------------+----------------------------------------------------------------------------------+\n",
      "|2019-05-18T20:19:45.778Z|HR001.shire.com|C:\\Windows\\System32\\WindowsPowerShell\\v1.0\\powershell.exe|HKLM\\System\\CurrentControlSet\\Control\\SecurityProviders\\WDigest\\UseLogonCredential|\n",
      "+------------------------+---------------+---------------------------------------------------------+----------------------------------------------------------------------------------+\n",
      "\n"
     ]
    }
   ],
   "source": [
    "sysmon_object_df = spark.sql(\n",
    "    '''\n",
    "    SELECT `@timestamp`, computer_name, Image, TargetObject\n",
    "    FROM mordor_file\n",
    "    WHERE channel = \"Microsoft-Windows-Sysmon/Operational\"\n",
    "        AND event_id = 13\n",
    "        AND TargetObject LIKE \"%UseLogonCredential\"\n",
    "        AND Details = 1\n",
    "    '''\n",
    ")\n",
    "sysmon_object_df.show(10,False)"
   ]
  },
  {
   "cell_type": "markdown",
   "metadata": {},
   "source": [
    "## Detection Blind Spots\n",
    "\n",
    "## Hunter Notes\n",
    "\n",
    "## Hunt Output\n",
    "\n",
    "| Category | Output Type | Name |\n",
    "|--------|--------|---------|\n",
    "|Signature | Sigma Rule | [sysmon_wdigest_registry_modification.yml](https://github.com/Cyb3rWard0g/ThreatHunter-Playbook/tree/master/signatures/sigma/sysmon_wdigest_registry_modification.yml) |\n",
    "\n",
    "## References\n",
    "\n",
    "* https://github.com/samratashok/nishang/blob/master/Gather/Invoke-MimikatzWDigestDowngrade.ps1\n",
    "* https://blog.stealthbits.com/wdigest-clear-text-passwords-stealing-more-than-a-hash/"
   ]
  },
  {
   "cell_type": "code",
   "execution_count": null,
   "metadata": {},
   "outputs": [],
   "source": []
  }
 ],
 "metadata": {
  "kernelspec": {
   "display_name": "PySpark_Python3",
   "language": "python",
   "name": "pyspark3"
  },
  "language_info": {
   "codemirror_mode": {
    "name": "ipython",
    "version": 3
   },
   "file_extension": ".py",
   "mimetype": "text/x-python",
   "name": "python",
   "nbconvert_exporter": "python",
   "pygments_lexer": "ipython3",
   "version": "3.7.3"
  }
 },
 "nbformat": 4,
 "nbformat_minor": 4
}
