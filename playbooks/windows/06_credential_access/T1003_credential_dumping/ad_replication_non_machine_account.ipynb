{
 "cells": [
  {
   "cell_type": "markdown",
   "metadata": {},
   "source": [
    "# Active Directory Replication From Non-Domain-Controller Accounts\n",
    "\n",
    "## Playbook Tags\n",
    "\n",
    "**ID:** WINCRED1808152105\n",
    "\n",
    "**Author:** Roberto Rodriguez [@Cyb3rWard0g](https://twitter.com/Cyb3rWard0g)\n",
    "\n",
    "**References:** WINEXEC1904101010\n",
    "\n",
    "## ATT&CK Tags\n",
    "\n",
    "**Tactic:** Credential Access\n",
    "\n",
    "**Technique:** Credential Dumping (T1003)\n",
    "\n",
    "## Applies To\n",
    "\n",
    "## Technical Description\n",
    "\n",
    "Active Directory replication is the process by which the changes that originate on one domain controller are automatically transferred to other domain controllers that store the same data.\n",
    "\n",
    "Active Directory data takes the form of objects that have properties, or attributes. Each object is an instance of an object class, and object classes and their respective attributes are defined in the Active Directory schema. The values of the attributes define the object, and a change to a value of an attribute must be transferred from the domain controller on which it occurs to every other domain controller that stores a replica of that object.\n",
    "\n",
    "An adversary can abuse this model and request information about a specific account via the replication request. This is done from an account with sufficient permissions (usually domain admin level) to perform that request. Usually the accounts performing replication operations in a domain are computer accounts (i.e dcaccount$). Therefore, it might be abnormal to see other non-dc-accounts doing it.\n",
    "\n",
    "### Additional Reading\n",
    "\n",
    "* [Active Directory Replication](https://github.com/Cyb3rWard0g/ThreatHunter-Playbook/tree/master/library/active_directory_replication.md)\n",
    "\n",
    "## Permission Required\n",
    "\n",
    "Domain Admin\n",
    "\n",
    "## Hypothesis\n",
    "\n",
    "Adversaries might attempt to pull the NTLM hash of a user via active directory replication apis from a non-domain-controller account with permissions to do so.\n",
    "\n",
    "## Attack Simulation Dataset\n",
    "\n",
    "| Environment| Name | Description |\n",
    "|--------|---------|---------|\n",
    "| [Shire](https://github.com/Cyb3rWard0g/mordor/tree/acf9f6be6a386783a20139ceb2faf8146378d603/environment/shire) | [empire_dcsync](https://github.com/Cyb3rWard0g/mordor/blob/master/small_datasets/windows/credential_access/credential_dumping_T1003/credentials_from_ad/empire_dcsync.md)  | A mordor dataset to simulate execution of DCSync from a non domain controller account |\n",
    "\n",
    "## Recommended Data Sources\n",
    "\n",
    "| Event ID | Event Name | Log Provider | Audit Category | Audit Sub-Category | ATT&CK Data Source |\n",
    "|---------|---------|----------|----------|---------|---------|\n",
    "| [4662](https://github.com/Cyb3rWard0g/OSSEM/blob/master/data_dictionaries/windows/security/events/event-4662.md) | An operation was performed on an object | Microsoft-Windows-Security-Auditing | DS Access | Directory Service Access | Windows Event Logs |\n",
    "| [4624](https://github.com/Cyb3rWard0g/OSSEM/blob/master/data_dictionaries/windows/security/events/event-4624.md) | An account was successfully logged on | Microsoft-Windows-Security-Auditing | Audit Logon/Logoff | Audit Logon | Windows Event Logs |"
   ]
  },
  {
   "cell_type": "markdown",
   "metadata": {},
   "source": [
    "## Data Analytics\n",
    "### Initialize Analytics Engine"
   ]
  },
  {
   "cell_type": "code",
   "execution_count": 1,
   "metadata": {},
   "outputs": [],
   "source": [
    "from openhunt.logparser import winlogbeat\n",
    "from pyspark.sql import SparkSession"
   ]
  },
  {
   "cell_type": "code",
   "execution_count": 2,
   "metadata": {},
   "outputs": [
    {
     "name": "stdout",
     "output_type": "stream",
     "text": [
      "<pyspark.sql.session.SparkSession object at 0x7f4b88574fd0>\n"
     ]
    }
   ],
   "source": [
    "win = winlogbeat()\n",
    "spark = SparkSession.builder.appName(\"Mordor\").config(\"spark.sql.caseSensitive\", \"True\").getOrCreate()\n",
    "print(spark)"
   ]
  },
  {
   "cell_type": "markdown",
   "metadata": {},
   "source": [
    "#### Prepare & Process Mordor File"
   ]
  },
  {
   "cell_type": "code",
   "execution_count": 3,
   "metadata": {},
   "outputs": [
    {
     "name": "stdout",
     "output_type": "stream",
     "text": [
      "[+] Processing a Spark DataFrame..\n",
      "[+] Reading Mordor file..\n",
      "[+] Processing Data from Winlogbeat version 6..\n",
      "[+] DataFrame Returned !\n"
     ]
    }
   ],
   "source": [
    "mordor_file = win.extract_nested_fields(\"mordor/small_datasets/empire_dcsync_2019-03-01174830.json\",spark)"
   ]
  },
  {
   "cell_type": "markdown",
   "metadata": {},
   "source": [
    "#### Register Mordor DataFrame as a SQL temporary view"
   ]
  },
  {
   "cell_type": "code",
   "execution_count": 4,
   "metadata": {},
   "outputs": [],
   "source": [
    "mordor_file.createOrReplaceTempView(\"mordor_file\")"
   ]
  },
  {
   "cell_type": "markdown",
   "metadata": {},
   "source": [
    "### Validate Analytic I\n",
    "| FP Rate | Source | Analytic Logic | Description |\n",
    "|--------|---------|---------|---------|\n",
    "| Low | Security | SELECT `@timestamp`, computer_name, SubjectUserName FROM mordor_file WHERE channel = \"Security\" AND event_id = 4662 AND AccessMask = \"0x100\" AND (Properties LIKE \"%1131f6aa_9c07_11d1_f79f_00c04fc2dcd2%\" OR Properties LIKE \"%1131f6ad_9c07_11d1_f79f_00c04fc2dcd2%\" OR Properties LIKE \"%89e95b76_444d_4c62_991a_0facbeda640c%\") AND NOT SubjectUserName LIKE \"%$\" | Monitoring for non-dc machine accounts accessing active directory objects on domain controllers with replication rights might be suspicious |"
   ]
  },
  {
   "cell_type": "code",
   "execution_count": 5,
   "metadata": {},
   "outputs": [
    {
     "name": "stdout",
     "output_type": "stream",
     "text": [
      "+------------------------+----------------+---------------+--------------+\n",
      "|@timestamp              |computer_name   |SubjectUserName|SubjectLogonId|\n",
      "+------------------------+----------------+---------------+--------------+\n",
      "|2019-03-01T22:49:11.564Z|HFDC01.shire.com|Mmidge         |0x80a1c8a     |\n",
      "|2019-03-01T22:49:11.564Z|HFDC01.shire.com|Mmidge         |0x80a1c8a     |\n",
      "|2019-03-01T22:49:11.564Z|HFDC01.shire.com|Mmidge         |0x80a1c8a     |\n",
      "+------------------------+----------------+---------------+--------------+\n",
      "\n"
     ]
    }
   ],
   "source": [
    "security_object_df = spark.sql(\n",
    "    '''\n",
    "    SELECT `@timestamp`, computer_name, SubjectUserName, SubjectLogonId\n",
    "    FROM mordor_file\n",
    "    WHERE channel = \"Security\"\n",
    "        AND event_id = 4662\n",
    "        AND AccessMask = \"0x100\"\n",
    "        AND (\n",
    "            Properties LIKE \"%1131f6aa_9c07_11d1_f79f_00c04fc2dcd2%\"\n",
    "            OR Properties LIKE \"%1131f6ad_9c07_11d1_f79f_00c04fc2dcd2%\"\n",
    "            OR Properties LIKE \"%89e95b76_444d_4c62_991a_0facbeda640c%\"\n",
    "        )\n",
    "        AND NOT SubjectUserName LIKE \"%$\"\n",
    "    '''\n",
    ")\n",
    "security_object_df.show(10,False)"
   ]
  },
  {
   "cell_type": "markdown",
   "metadata": {},
   "source": [
    "### Validate Analytic II\n",
    "| FP Rate | Source | Analytic Logic | Description |\n",
    "|--------|---------|---------|---------|\n",
    "| Low | Security | SELECT o.`@timestamp`, o.computer_name, o.SubjectUserName, o.SubjectLogonId, a.IpAddress FROM mordor_file o INNER JOIN ( SELECT computer_name,TargetUserName,TargetLogonId,IpAddress FROM mordor_file WHERE channel = \"Security\" AND LogonType = 3 AND IpAddress is not null AND NOT TargetUserName LIKE \"%\\\\$\" ) a ON o.SubjectLogonId = a.TargetLogonId WHERE o.channel = \"Security\" AND o.event_id = 4662 AND o.AccessMask = \"0x100\" AND (o.Properties LIKE \"%1131f6aa_9c07_11d1_f79f_00c04fc2dcd2%\" OR o.Properties LIKE \"%1131f6ad_9c07_11d1_f79f_00c04fc2dcd2%\" OR o.Properties LIKE \"%89e95b76_444d_4c62_991a_0facbeda640c%\") AND o.computer_name = a.computer_name AND NOT o.SubjectUserName LIKE \"%$\" | You can use successful authentication events on the domain controller to get information about the source of the AD Replication Service request |"
   ]
  },
  {
   "cell_type": "code",
   "execution_count": 6,
   "metadata": {},
   "outputs": [
    {
     "name": "stdout",
     "output_type": "stream",
     "text": [
      "+------------------------+----------------+---------------+--------------+-------------+\n",
      "|@timestamp              |computer_name   |SubjectUserName|SubjectLogonId|IpAddress    |\n",
      "+------------------------+----------------+---------------+--------------+-------------+\n",
      "|2019-03-01T22:49:11.564Z|HFDC01.shire.com|Mmidge         |0x80a1c8a     |172.18.39.105|\n",
      "|2019-03-01T22:49:11.564Z|HFDC01.shire.com|Mmidge         |0x80a1c8a     |172.18.39.105|\n",
      "|2019-03-01T22:49:11.564Z|HFDC01.shire.com|Mmidge         |0x80a1c8a     |172.18.39.105|\n",
      "+------------------------+----------------+---------------+--------------+-------------+\n",
      "\n"
     ]
    }
   ],
   "source": [
    "security_4662_4624 = spark.sql(\n",
    "    '''\n",
    "    SELECT o.`@timestamp`, o.computer_name, o.SubjectUserName, o.SubjectLogonId, a.IpAddress\n",
    "    FROM mordor_file o\n",
    "    INNER JOIN (\n",
    "        SELECT computer_name,TargetUserName,TargetLogonId,IpAddress\n",
    "        FROM mordor_file\n",
    "        WHERE channel = \"Security\"\n",
    "            AND LogonType = 3\n",
    "            AND IpAddress is not null\n",
    "            AND NOT TargetUserName LIKE \"%$\"\n",
    "        ) a\n",
    "    ON o.SubjectLogonId = a.TargetLogonId\n",
    "    WHERE o.channel = \"Security\"\n",
    "        AND o.event_id = 4662\n",
    "        AND o.AccessMask = \"0x100\"\n",
    "        AND (\n",
    "            o.Properties LIKE \"%1131f6aa_9c07_11d1_f79f_00c04fc2dcd2%\"\n",
    "            OR o.Properties LIKE \"%1131f6ad_9c07_11d1_f79f_00c04fc2dcd2%\"\n",
    "            OR o.Properties LIKE \"%89e95b76_444d_4c62_991a_0facbeda640c%\"\n",
    "        )\n",
    "        AND o.computer_name = a.computer_name\n",
    "        AND NOT o.SubjectUserName LIKE \"%$\"\n",
    "    '''\n",
    ")\n",
    "security_4662_4624.show(10,False)"
   ]
  },
  {
   "cell_type": "markdown",
   "metadata": {},
   "source": [
    "## Detection Blind Spots\n",
    "\n",
    "* Adversaries could perform the replication request from a Domain Controller (DC) and with the DC machine account (*$) to make it look like usual/common replication activity. \n",
    "\n",
    "## Hunter Notes\n",
    "\n",
    "* As stated before, when an adversary utilizes directory replication services to connect to a DC, a RPC Client call operation with the RPC Interface GUID of `E3514235-4B06-11D1-AB04-00C04FC2DCD2` is performed pointing to the targeted DC. This activity is recorded at the source endpoint, from where the replication request is being performed from, via the `Microsoft-Windows-RPC` ETW provider. Even though the `Microsoft-Windows-RPC` ETW provider provides great visibility for replication operations at the source endpoint level, it does not have an event tracing session writing events to an .evtx file which does not make it practical to use it at scale yet.\n",
    "* You can collect information from the `Microsoft-Windows-RPC` ETW provider and filter on RPC Interface GUID `E3514235-4B06-11D1-AB04-00C04FC2DCD2` with SilkETW. One example here: https://twitter.com/FuzzySec/status/1127249052175872000\n",
    "* You can correlate security events 4662 and 4624 (Logon Type 3) by their Logon ID on the Domain Controller (DC) that received the replication request. This will tell you where the AD replication request came from. This will also allow you to know if it came from another DC or not.\n",
    "\n",
    "## Hunt Output\n",
    "\n",
    "| Category | Type | Name |\n",
    "|--------|---------|---------|\n",
    "| Signature | Sigma Rule | [win_ad_replication_non_machine_account.yml](https://github.com/Cyb3rWard0g/ThreatHunter-Playbook/tree/master/signatures/sigma/win_ad_replication_non_machine_account.yml) |\n",
    "\n",
    "## References\n",
    "\n",
    "* https://docs.microsoft.com/en-us/openspecs/windows_protocols/ms-adts/1522b774-6464-41a3-87a5-1e5633c3fbbb\n",
    "* https://docs.microsoft.com/en-us/windows/desktop/adschema/c-domain\n",
    "* https://docs.microsoft.com/en-us/windows/desktop/adschema/c-domaindns\n",
    "* http://www.harmj0y.net/blog/redteaming/a-guide-to-attacking-domain-trusts/\n",
    "* https://docs.microsoft.com/en-us/previous-versions/windows/it-pro/windows-server-2003/cc782376(v=ws.10)\n",
    "* https://docs.microsoft.com/en-us/openspecs/windows_protocols/ms-drsr/f977faaa-673e-4f66-b9bf-48c640241d47"
   ]
  },
  {
   "cell_type": "code",
   "execution_count": null,
   "metadata": {},
   "outputs": [],
   "source": []
  }
 ],
 "metadata": {
  "kernelspec": {
   "display_name": "PySpark_Python3",
   "language": "python",
   "name": "pyspark3"
  },
  "language_info": {
   "codemirror_mode": {
    "name": "ipython",
    "version": 3
   },
   "file_extension": ".py",
   "mimetype": "text/x-python",
   "name": "python",
   "nbconvert_exporter": "python",
   "pygments_lexer": "ipython3",
   "version": "3.7.3"
  }
 },
 "nbformat": 4,
 "nbformat_minor": 4
}
