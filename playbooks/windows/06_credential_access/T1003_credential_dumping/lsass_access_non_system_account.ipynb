{
 "cells": [
  {
   "cell_type": "markdown",
   "metadata": {},
   "source": [
    "# LSASS Access from Non System Account\n",
    "\n",
    "## Playbook Tags\n",
    "\n",
    "**ID:** WINCRED1701052210\n",
    "\n",
    "**Author:** Roberto Rodriguez [@Cyb3rWard0g](https://twitter.com/Cyb3rWard0g)\n",
    "\n",
    "**References:** WINEXEC1904101010\n",
    "\n",
    "## ATT&CK Tags\n",
    "\n",
    "**Tactic:** Credential Access\n",
    "\n",
    "**Technique:** Credential Dumping (T1003)\n",
    "\n",
    "## Applies To\n",
    "\n",
    "## Technical Description\n",
    "\n",
    "After a user logs on, a variety of credentials are generated and stored in the Local Security Authority Subsystem Service (LSASS) process in memory. This is meant to facilitate single sign-on (SSO) ensuring a user isn’t prompted each time resource access is requested. The credential data may include Kerberos tickets, NTLM password hashes, LM password hashes (if the password is <15 characters, depending on Windows OS version and patch level), and even clear-text passwords (to support WDigest and SSP authentication among others.\n",
    "\n",
    "Adversaries look to get access to the credential data and do it so by finding a way to access the contents of memory of the LSASS process. For example, tools like Mimikatz get credential data by listing all available provider credentials with its `SEKURLSA::LogonPasswords` module. The module uses a Kernel32 function called OpenProcess to get a handle to lsass to then access LSASS and dump password data for currently logged on (or recently logged on) accounts as well as services running under the context of user credentials.\n",
    "\n",
    "Even though most adversaries might inject into a System process to blend in with most applications accessing LSASS, there are ocassions where adversaries do not elevate to System and use the available administrator rights from the user since that is the minimum requirement to access LSASS.\n",
    "\n",
    "## Permission Required\n",
    "\n",
    "Administrator\n",
    "\n",
    "## Hypothesis\n",
    "\n",
    "Adversaries might be using a non system account to access LSASS and extract credentials from memory.\n",
    "\n",
    "## Attack Simulation Dataset\n",
    "\n",
    "| Environment| Name | Description |\n",
    "|--------|---------|---------|\n",
    "| [Shire](https://github.com/Cyb3rWard0g/mordor/tree/acf9f6be6a386783a20139ceb2faf8146378d603/environment/shire) | [empire_mimikatz_logonpasswords](https://github.com/Cyb3rWard0g/mordor/blob/master/small_datasets/windows/credential_access/credential_dumping_T1003/credentials_from_memory/empire_mimikatz_logonpasswords.md)  | A mordor dataset to simulate execution of Mimikatz module LogonnPasswords from non-system account |\n",
    "\n",
    "## Recommended Data Sources\n",
    "\n",
    "| Event ID | Event Name | Log Provider | Audit Category | Audit Sub-Category | ATT&CK Data Source |\n",
    "|---------|---------|----------|----------|---------|---------|\n",
    "| [4663](https://github.com/Cyb3rWard0g/OSSEM/blob/master/data_dictionaries/windows/security/events/event-4663.md) | An attempt was made to access an object | Microsoft-Windows-Security-Auditing | Object Access | Kernel Object | Windows Event Logs |\n",
    "| [4656](https://github.com/Cyb3rWard0g/OSSEM/blob/master/data_dictionaries/windows/security/events/event-4656.md) | A handle to an object was requested | Microsoft-Windows-Security-Auditing | Object Access | Kernel Object | Windows Event Logs |\n",
    "| [10](https://github.com/Cyb3rWard0g/OSSEM/blob/master/data_dictionaries/windows/sysmon/event-10.md) | Process Access | Microsoft-Windows-Sysmon | | | Process Monitoring |\n",
    "| [7](https://github.com/Cyb3rWard0g/OSSEM/blob/master/data_dictionaries/windows/sysmon/event-7.md) | Module Loaded | Microsoft-Windows-Sysmon | | | Loaded DLLs |"
   ]
  },
  {
   "cell_type": "markdown",
   "metadata": {},
   "source": [
    "## Data Analytics\n",
    "### Initialize Analytics Engine"
   ]
  },
  {
   "cell_type": "code",
   "execution_count": 1,
   "metadata": {},
   "outputs": [],
   "source": [
    "from openhunt.logparser import winlogbeat\n",
    "from pyspark.sql import SparkSession"
   ]
  },
  {
   "cell_type": "code",
   "execution_count": 2,
   "metadata": {},
   "outputs": [
    {
     "name": "stdout",
     "output_type": "stream",
     "text": [
      "<pyspark.sql.session.SparkSession object at 0x7f47212f1fd0>\n"
     ]
    }
   ],
   "source": [
    "win = winlogbeat()\n",
    "spark = SparkSession.builder.appName(\"Mordor\").config(\"spark.sql.caseSensitive\", \"True\").getOrCreate()\n",
    "print(spark)"
   ]
  },
  {
   "cell_type": "markdown",
   "metadata": {},
   "source": [
    "#### Prepare & Process Mordor File"
   ]
  },
  {
   "cell_type": "code",
   "execution_count": 3,
   "metadata": {},
   "outputs": [
    {
     "name": "stdout",
     "output_type": "stream",
     "text": [
      "[+] Processing a Spark DataFrame..\n",
      "[+] Reading Mordor file..\n",
      "[+] Processing Data from Winlogbeat version 6..\n",
      "[+] DataFrame Returned !\n"
     ]
    }
   ],
   "source": [
    "mordor_file = win.extract_nested_fields(\"mordor/small_datasets/empire_mimikatz_logonpasswords_2019-05-18202151.json\",spark)"
   ]
  },
  {
   "cell_type": "markdown",
   "metadata": {},
   "source": [
    "#### Register Mordor DataFrame as a SQL temporary view"
   ]
  },
  {
   "cell_type": "code",
   "execution_count": 4,
   "metadata": {},
   "outputs": [],
   "source": [
    "mordor_file.createOrReplaceTempView(\"mordor_file\")"
   ]
  },
  {
   "cell_type": "markdown",
   "metadata": {},
   "source": [
    "### Validate Analytic I\n",
    "| FP Rate | Source | Analytic Logic | Description |\n",
    "|--------|---------|---------|---------|\n",
    "| Medium | Security | SELECT `@timestamp`, computer_name, SubjectUserName, ProcessName, ObjectName, AccessMask, event_id FROM mordor_file WHERE channel = \"Security\" AND (event_id = 4663 OR event_id = 4656) AND ObjectName LIKE \"%lsass.exe\" AND NOT SubjectUserName LIKE \"%$\" | Look for non-system accounts getting a handle and access lsass |"
   ]
  },
  {
   "cell_type": "code",
   "execution_count": 5,
   "metadata": {},
   "outputs": [
    {
     "name": "stdout",
     "output_type": "stream",
     "text": [
      "+------------------------+---------------+---------------+---------------------------------------------------------+--------------------------------------------------+----------+--------+\n",
      "|@timestamp              |computer_name  |SubjectUserName|ProcessName                                              |ObjectName                                        |AccessMask|event_id|\n",
      "+------------------------+---------------+---------------+---------------------------------------------------------+--------------------------------------------------+----------+--------+\n",
      "|2019-05-18T20:22:36.476Z|HR001.shire.com|nmartha        |C:\\Windows\\System32\\WindowsPowerShell\\v1.0\\powershell.exe|\\Device\\HarddiskVolume2\\Windows\\System32\\lsass.exe|0x1010    |4656    |\n",
      "|2019-05-18T20:22:36.489Z|HR001.shire.com|nmartha        |C:\\Windows\\System32\\WindowsPowerShell\\v1.0\\powershell.exe|\\Device\\HarddiskVolume2\\Windows\\System32\\lsass.exe|0x10      |4663    |\n",
      "+------------------------+---------------+---------------+---------------------------------------------------------+--------------------------------------------------+----------+--------+\n",
      "\n"
     ]
    }
   ],
   "source": [
    "security_object_df = spark.sql(\n",
    "    '''\n",
    "    SELECT `@timestamp`, computer_name, SubjectUserName, ProcessName, ObjectName, AccessMask, event_id\n",
    "    FROM mordor_file\n",
    "    WHERE channel = \"Security\"\n",
    "        AND (event_id = 4663 OR event_id = 4656)\n",
    "        AND ObjectName LIKE \"%lsass.exe\"\n",
    "        AND NOT SubjectUserName LIKE \"%$\"\n",
    "    '''\n",
    ")\n",
    "security_object_df.show(10,False)"
   ]
  },
  {
   "cell_type": "markdown",
   "metadata": {},
   "source": [
    "### Validate Analytic II\n",
    "| FP Rate | Source | Analytic Logic | Description |\n",
    "|--------|---------|---------|---------|\n",
    "| Medium | Sysmon | SELECT `@timestamp`, computer_name, SourceImage, TargetImage, GrantedAccess FROM mordor_file WHERE channel = \"Microsoft-Windows-Sysmon/Operational\" AND event_id = 10 AND TargetImage LIKE \"%lsass.exe\" AND CallTrace LIKE \"%UNKNOWN%\" | Processes opening handles and accessing Lsass with potential dlls in memory (i.e UNKNOWN in CallTrace) |"
   ]
  },
  {
   "cell_type": "code",
   "execution_count": 6,
   "metadata": {},
   "outputs": [
    {
     "name": "stdout",
     "output_type": "stream",
     "text": [
      "+------------------------+---------------+---------------------------------------------------------+-----------------------------+-------------+--------------------------------------+\n",
      "|@timestamp              |computer_name  |SourceImage                                              |TargetImage                  |GrantedAccess|SourceProcessGUID                     |\n",
      "+------------------------+---------------+---------------------------------------------------------+-----------------------------+-------------+--------------------------------------+\n",
      "|2019-05-18T20:22:36.485Z|HR001.shire.com|C:\\Windows\\System32\\WindowsPowerShell\\v1.0\\powershell.exe|C:\\Windows\\system32\\lsass.exe|0x1010       |{03ba39f5-50b2-5ce0-0000-00109995c501}|\n",
      "+------------------------+---------------+---------------------------------------------------------+-----------------------------+-------------+--------------------------------------+\n",
      "\n"
     ]
    }
   ],
   "source": [
    "sysmon_lsass_access_df = spark.sql(\n",
    "    '''\n",
    "    SELECT `@timestamp`, computer_name, SourceImage, TargetImage, GrantedAccess, SourceProcessGUID\n",
    "    FROM mordor_file\n",
    "    WHERE channel = \"Microsoft-Windows-Sysmon/Operational\"\n",
    "        AND event_id = 10\n",
    "        AND TargetImage LIKE \"%lsass.exe\"\n",
    "        AND CallTrace LIKE \"%UNKNOWN%\"\n",
    "    '''\n",
    ")\n",
    "sysmon_lsass_access_df.show(10,False)"
   ]
  },
  {
   "cell_type": "markdown",
   "metadata": {},
   "source": [
    "### Validate Analytic III\n",
    "| FP Rate | Source | Analytic Logic | Description |\n",
    "|--------|---------|---------|---------|\n",
    "| Medium | Sysmon | SELECT ProcessGuid,Image, COUNT(DISTINCT ImageLoaded) AS hits FROM mordor_file WHERE channel = channel = \"Microsoft-Windows-Sysmon/Operational\" AND event_id = 7 AND ( ImageLoaded LIKE \"%samlib.dll\" OR ImageLoaded LIKE \"%vaultcli.dll\" OR ImageLoaded LIKE \"%hid.dll\" OR ImageLoaded LIKE \"%winscard.dll\" OR ImageLoaded LIKE \"%cryptdll.dll\") AND `@timestamp` BETWEEN \"2019-03-00 00:00:00.000\" AND \"2019-06-20 00:00:00.000\" GROUP BY ProcessGuid,Image ORDER BY hits DESC LIMIT 10 | Look for processes loading a few known DLLs loaded by tools like Mimikatz to interact with credentials |"
   ]
  },
  {
   "cell_type": "code",
   "execution_count": 7,
   "metadata": {},
   "outputs": [
    {
     "name": "stdout",
     "output_type": "stream",
     "text": [
      "+--------------------------------------+---------------------------------------------------------+----+\n",
      "|ProcessGuid                           |Image                                                    |hits|\n",
      "+--------------------------------------+---------------------------------------------------------+----+\n",
      "|{03ba39f5-50b2-5ce0-0000-00109995c501}|C:\\Windows\\System32\\WindowsPowerShell\\v1.0\\powershell.exe|3   |\n",
      "|{aa6b4a20-6981-5ce0-0000-0010ae9b4701}|C:\\Windows\\System32\\SearchFilterHost.exe                 |1   |\n",
      "|{aa6b4a20-6981-5ce0-0000-00104d974701}|C:\\Windows\\System32\\SearchProtocolHost.exe               |1   |\n",
      "+--------------------------------------+---------------------------------------------------------+----+\n",
      "\n"
     ]
    }
   ],
   "source": [
    "sysmon_moduleload_df = spark.sql(\n",
    "    '''\n",
    "    SELECT ProcessGuid,Image, COUNT(DISTINCT ImageLoaded) AS hits\n",
    "    FROM mordor_file\n",
    "    WHERE channel = \"Microsoft-Windows-Sysmon/Operational\"\n",
    "        AND event_id = 7\n",
    "        AND ( \n",
    "            ImageLoaded LIKE \"%samlib.dll\"\n",
    "            OR ImageLoaded LIKE \"%vaultcli.dll\"\n",
    "            OR ImageLoaded LIKE \"%hid.dll\"\n",
    "            OR ImageLoaded LIKE \"%winscard.dll\"\n",
    "            OR ImageLoaded LIKE \"%cryptdll.dll\"\n",
    "        )\n",
    "        AND `@timestamp` BETWEEN \"2019-03-00 00:00:00.000\" AND \"2019-06-20 00:00:00.000\"\n",
    "        GROUP BY ProcessGuid,Image ORDER BY hits DESC LIMIT 10\n",
    "    '''\n",
    ")\n",
    "sysmon_moduleload_df.show(20,False)"
   ]
  },
  {
   "cell_type": "markdown",
   "metadata": {},
   "source": [
    "### Validate Analytic IV\n",
    "| FP Rate | Source | Analytic Logic | Description |\n",
    "|--------|---------|---------|---------|\n",
    "| Medium | Sysmon | SELECT a.`@timestamp`, a.computer_name, m.Image, a.SourceProcessGUID FROM mordor_file a INNER JOIN ( SELECT ProcessGuid,Image, COUNT(DISTINCT ImageLoaded) AS hits FROM mordor_file WHERE channel = \"Microsoft-Windows-Sysmon/Operational\" AND event_id = 7 AND (ImageLoaded LIKE \"%samlib.dll\" OR ImageLoaded LIKE \"%vaultcli.dll\" OR ImageLoaded LIKE \"%hid.dll\" OR ImageLoaded LIKE \"%winscard.dll\" OR ImageLoaded LIKE \"%cryptdll.dll\") AND `@timestamp` BETWEEN \"2019-03-00 00:00:00.000\" AND \"2019-06-20 00:00:00.000\" GROUP BY ProcessGuid,Image ORDER BY hits DESC LIMIT 10) m ON a.SourceProcessGUID = m.ProcessGuid WHERE a.channel = \"Microsoft-Windows-Sysmon/Operational\" AND a.event_id = 10 AND a.TargetImage LIKE \"%lsass.exe\" AND a.CallTrace LIKE \"%UNKNOWN%\" AND m.hits >= 3 | Join processes opening a handle and accessing LSASS with potential DLLs loaded in memory and processes loading a few known DLLs loaded by tools like Mimikatz to interact with credentials |"
   ]
  },
  {
   "cell_type": "code",
   "execution_count": 8,
   "metadata": {},
   "outputs": [
    {
     "name": "stdout",
     "output_type": "stream",
     "text": [
      "+------------------------+---------------+---------------------------------------------------------+--------------------------------------+\n",
      "|@timestamp              |computer_name  |Image                                                    |SourceProcessGUID                     |\n",
      "+------------------------+---------------+---------------------------------------------------------+--------------------------------------+\n",
      "|2019-05-18T20:22:36.485Z|HR001.shire.com|C:\\Windows\\System32\\WindowsPowerShell\\v1.0\\powershell.exe|{03ba39f5-50b2-5ce0-0000-00109995c501}|\n",
      "+------------------------+---------------+---------------------------------------------------------+--------------------------------------+\n",
      "\n"
     ]
    }
   ],
   "source": [
    "sysmon_10_7 = spark.sql(\n",
    "    '''\n",
    "    SELECT a.`@timestamp`, a.computer_name, m.Image, a.SourceProcessGUID\n",
    "    FROM mordor_file a\n",
    "    INNER JOIN (\n",
    "        SELECT ProcessGuid,Image, COUNT(DISTINCT ImageLoaded) AS hits\n",
    "        FROM mordor_file\n",
    "        WHERE channel = \"Microsoft-Windows-Sysmon/Operational\"\n",
    "            AND event_id = 7\n",
    "            AND ( \n",
    "                ImageLoaded LIKE \"%samlib.dll\"\n",
    "                OR ImageLoaded LIKE \"%vaultcli.dll\"\n",
    "                OR ImageLoaded LIKE \"%hid.dll\"\n",
    "                OR ImageLoaded LIKE \"%winscard.dll\"\n",
    "                OR ImageLoaded LIKE \"%cryptdll.dll\"\n",
    "            )\n",
    "            AND `@timestamp` BETWEEN \"2019-03-00 00:00:00.000\" AND \"2019-06-20 00:00:00.000\"\n",
    "            GROUP BY ProcessGuid,Image ORDER BY hits DESC LIMIT 10\n",
    "        ) m\n",
    "    ON a.SourceProcessGUID = m.ProcessGuid\n",
    "    WHERE a.channel = \"Microsoft-Windows-Sysmon/Operational\"\n",
    "        AND a.event_id = 10\n",
    "        AND a.TargetImage LIKE \"%lsass.exe\"\n",
    "        AND a.CallTrace LIKE \"%UNKNOWN%\"\n",
    "        AND m.hits >= 3\n",
    "    '''\n",
    ")\n",
    "sysmon_10_7.show(10,False)"
   ]
  },
  {
   "cell_type": "markdown",
   "metadata": {},
   "source": [
    "### Validate Analytic IV"
   ]
  },
  {
   "cell_type": "markdown",
   "metadata": {},
   "source": [
    "| FP Rate | Source | Analytic Logic | Description |\n",
    "|--------|---------|---------|---------|\n",
    "| Medium | Sysmon | SELECT p.`@timestamp`, p.computer_name, p.Image, p.User FROM mordor_file p INNER JOIN potential_mimikatz m ON p.ProcessGuid = m.SourceProcessGUID WHERE p.channel = \"Microsoft-Windows-Sysmon/Operational\" AND p.event_id = 1 AND NOT p.LogonId = \"0x3e7 | Join non system accounts creating processes that open handles and access LSASS with potential DLLs loaded in memory and load a few known DLLs loaded by tools like Mimikatz to interact with credentials on ProcessGuid values|"
   ]
  },
  {
   "cell_type": "code",
   "execution_count": 9,
   "metadata": {},
   "outputs": [],
   "source": [
    "sysmon_10_7.createOrReplaceTempView(\"potential_mimikatz\")"
   ]
  },
  {
   "cell_type": "code",
   "execution_count": 10,
   "metadata": {},
   "outputs": [
    {
     "name": "stdout",
     "output_type": "stream",
     "text": [
      "+----------+-------------+-----+----+\n",
      "|@timestamp|computer_name|Image|User|\n",
      "+----------+-------------+-----+----+\n",
      "+----------+-------------+-----+----+\n",
      "\n"
     ]
    }
   ],
   "source": [
    "sysmon_10_7_1 = spark.sql(\n",
    "    '''\n",
    "    SELECT p.`@timestamp`, p.computer_name, p.Image, p.User\n",
    "    FROM mordor_file p\n",
    "    INNER JOIN potential_mimikatz m\n",
    "    ON p.ProcessGuid = m.SourceProcessGUID\n",
    "    WHERE p.channel = \"Microsoft-Windows-Sysmon/Operational\"\n",
    "        AND p.event_id = 1\n",
    "        AND NOT p.LogonId = \"0x3e7\"\n",
    "    '''\n",
    ")\n",
    "sysmon_10_7_1.show(10,False)"
   ]
  },
  {
   "cell_type": "markdown",
   "metadata": {},
   "source": [
    "## Detection Blind Spots\n",
    "\n",
    "* The Microsoft Monitoring Agent binary pmfexe.exe is one of the most common ones that accesses Lsass.exe with at least 0x10 permissions as System. That could be useful to blend in through the noise.\n",
    "\n",
    "## Hunter Notes\n",
    "\n",
    "* Looking for processes accessing LSASS with the 0x10(VmRead) rights from a non-system account is very suspicious and not as common as you might think.\n",
    "* GrantedAccess code 0x1010 is the new permission Mimikatz v.20170327 uses for command \"sekurlsa::logonpasswords\". You can specifically look for that from processes like PowerShell to create a basic signature.\n",
    "  * 0x00000010 = VMRead\n",
    "  * 0x00001000 = QueryLimitedInfo\n",
    "* GrantedAccess code 0x1010 is less common than 0x1410 in large environment.\n",
    "* Out of all the Modules that Mimikatz needs to function, there are 5 modules that when loaded all together by the same process is very suspicious.\n",
    "    * samlib.dll, vaultcli.dll, hid.dll, winscard.dll, cryptdll.dll\n",
    "* For signatures purposes, look for processes accessing Lsass.exe with a potential CallTrace Pattern: /C:\\\\Windows\\\\SYSTEM32\\\\ntdll.dll\\+[a-zA-Z0-9]{1,}\\|C:\\\\Windows\\\\System32\\\\KERNELBASE.dll\\+[a-zA-Z0-9]{1,}\\|UNKNOWN.*/\n",
    "* You could use a stack counting technique to stack all the values of the permissions invoked by processes accessing Lsass.exe. You will have to do some filtering to reduce the number of false positives. You could then group the results with other events such as modules being loaded (EID 7). A time window of 1-2 seconds could help to get to a reasonable number of events for analysis.\n",
    "\n",
    "## Hunt Output\n",
    "\n",
    "## Referennces\n",
    "\n",
    "* https://tyranidslair.blogspot.com/2017/10/bypassing-sacl-auditing-on-lsass.htmls\n",
    "* https://adsecurity.org/?page_id=1821#SEKURLSALogonPasswords\n",
    "* https://github.com/PowerShellMafia/PowerSploit/tree/dev\n",
    "* http://clymb3r.wordpress.com/2013/04/09/modifying-mimikatz-to-be-loaded-using-invoke-reflectivedllinjection-ps1/"
   ]
  },
  {
   "cell_type": "code",
   "execution_count": null,
   "metadata": {},
   "outputs": [],
   "source": []
  }
 ],
 "metadata": {
  "kernelspec": {
   "display_name": "PySpark_Python3",
   "language": "python",
   "name": "pyspark3"
  },
  "language_info": {
   "codemirror_mode": {
    "name": "ipython",
    "version": 3
   },
   "file_extension": ".py",
   "mimetype": "text/x-python",
   "name": "python",
   "nbconvert_exporter": "python",
   "pygments_lexer": "ipython3",
   "version": "3.7.3"
  }
 },
 "nbformat": 4,
 "nbformat_minor": 4
}
