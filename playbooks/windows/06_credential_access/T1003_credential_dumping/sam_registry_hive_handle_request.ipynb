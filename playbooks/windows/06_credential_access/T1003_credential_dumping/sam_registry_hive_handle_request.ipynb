{
 "cells": [
  {
   "cell_type": "markdown",
   "metadata": {},
   "source": [
    "# SAM Registry Hive Handle Request\n",
    "\n",
    "## Playbook Tags\n",
    "\n",
    "**ID:** WINCRED1907250246\n",
    "\n",
    "**Author:** Roberto Rodriguez [@Cyb3rWard0g](https://twitter.com/Cyb3rWard0g)\n",
    "\n",
    "**References:** WINDISC1906250246\n",
    "\n",
    "## ATT&CK Tags\n",
    "\n",
    "**Tactic:** Credential Access, Discovery\n",
    "\n",
    "**Technique:** Credential Dumping (T1003), Query Registry (T1012)\n",
    "\n",
    "## Applies To\n",
    "\n",
    "## Technical Description\n",
    "\n",
    "Every computer that runs Windows has its own local domain; that is, it has an account database for accounts that are specific to that computer. Conceptually,this is an account database like any other with accounts, groups, SIDs, and so on. These are referred to as local accounts, local groups, and so on. Because computers typically do not trust each other for account information, these identities stay local to the computer on which they were created.\n",
    "\n",
    "Adversaries might use tools like Mimikatz with `lsadump::sam` commands or scripts such as [Invoke-PowerDump](https://github.com/EmpireProject/Empire/blob/master/data/module_source/credentials/Invoke-PowerDump.ps1) to get the SysKey to decrypt Security Account Mannager (SAM) database entries (from registry or hive) and get NTLM, and sometimes LM hashes of local accounts passwords. In addition, adversaries can use the built-in Reg.exe utility to dump the SAM hive in order to crack it offline\n",
    "\n",
    "Adversaries can calculate the Syskey by using RegOpenKeyEx/RegQueryInfoKey API calls to query the appropriate class info and values from the HKLM:\\SYSTEM\\CurrentControlSet\\Control\\Lsa\\JD, HKLM:\\SYSTEM\\CurrentControlSet\\Control\\Lsa\\Skew1, HKLM:\\SYSTEM\\CurrentControlSet\\Control\\Lsa\\GBG, and HKLM:\\SYSTEM\\CurrentControlSet\\Control\\Lsa\\Data keys.\n",
    "\n",
    "### Additional Reading:\n",
    "\n",
    "* [Security Account Manager (SAM) Database](https://github.com/Cyb3rWard0g/ThreatHunter-Playbook/tree/master/library/security_account_manager_database.md)\n",
    "* [SysKey](https://github.com/Cyb3rWard0g/ThreatHunter-Playbook/tree/master/library/syskey.md)\n",
    "\n",
    "## Permission Required\n",
    "\n",
    "System\n",
    "\n",
    "## Hypothesis\n",
    "\n",
    "Adversaries might be accessing and decrypting SAM entries after calculating the SysKey\n",
    "\n",
    "## Attack Simulation Dataset\n",
    "\n",
    "| Environment| Name | Description |\n",
    "|--------|---------|---------|\n",
    "| [Shire](https://github.com/Cyb3rWard0g/mordor/tree/acf9f6be6a386783a20139ceb2faf8146378d603/environment/shire) | [empire_mimikatz_lsadump_sam](https://github.com/Cyb3rWard0g/mordor/blob/master/small_datasets/windows/credential_access/credential_dumping_T1003/credentials_from_registry/empire_mimikatz_lsadump_sam.md) | A mordor dataset to simulate execution of Mimikatz module lsadump to access SAM entries |\n",
    "| [Shire](https://github.com/Cyb3rWard0g/mordor/tree/acf9f6be6a386783a20139ceb2faf8146378d603/environment/shire) | [empire_powerdump](https://github.com/Cyb3rWard0g/mordor/blob/master/small_datasets/windows/credential_access/credential_dumping_T1003/credentials_from_registry/empire_powerdump.md) | A mordor dataset to simulate execution of powerdump to access SAM entries |\n",
    "| [Shire](https://github.com/Cyb3rWard0g/mordor/tree/acf9f6be6a386783a20139ceb2faf8146378d603/environment/shire) | [empire_reg_dump_sam](https://github.com/Cyb3rWard0g/mordor/blob/master/small_datasets/windows/credential_access/credential_dumping_T1003/credentials_from_registry/empire_reg_dump_sam.md) | A mordor dataset to simulate the use of reg.exe utilty to dumo the SAM hive. |\n",
    "\n",
    "## Recommended Data Sources\n",
    "\n",
    "| Event ID | Event Name | Log Provider | Audit Category | Audit Sub-Category | ATT&CK Data Source |\n",
    "|---------|---------|----------|----------|---------|---------|\n",
    "| [4656](https://github.com/Cyb3rWard0g/OSSEM/blob/master/data_dictionaries/windows/security/events/event-4656.md) | A handle to an object was requested | Microsoft-Windows-Security-Auditing | Object Access | Kernel Object | Windows Event Logs |"
   ]
  },
  {
   "cell_type": "markdown",
   "metadata": {},
   "source": [
    "## Data Analytics\n",
    "### Initialize Analytics Engine"
   ]
  },
  {
   "cell_type": "code",
   "execution_count": 1,
   "metadata": {},
   "outputs": [],
   "source": [
    "from openhunt.logparser import winlogbeat\n",
    "from pyspark.sql import SparkSession"
   ]
  },
  {
   "cell_type": "code",
   "execution_count": 2,
   "metadata": {},
   "outputs": [
    {
     "name": "stdout",
     "output_type": "stream",
     "text": [
      "<pyspark.sql.session.SparkSession object at 0x7f8f03fb0208>\n"
     ]
    }
   ],
   "source": [
    "win = winlogbeat()\n",
    "spark = SparkSession.builder.appName(\"Mordor\").config(\"spark.sql.caseSensitive\", \"True\").getOrCreate()\n",
    "print(spark)"
   ]
  },
  {
   "cell_type": "markdown",
   "metadata": {},
   "source": [
    "#### Prepare & Process Mordor File"
   ]
  },
  {
   "cell_type": "code",
   "execution_count": 3,
   "metadata": {},
   "outputs": [
    {
     "name": "stdout",
     "output_type": "stream",
     "text": [
      "[+] Processing a Spark DataFrame..\n",
      "[+] Reading Mordor file..\n",
      "[+] Processing Data from Winlogbeat version 6..\n",
      "[+] DataFrame Returned !\n"
     ]
    }
   ],
   "source": [
    "mordor_file = win.extract_nested_fields(\"mordor/small_datasets/empire_powerdump_2019-06-25132210.json\",spark)"
   ]
  },
  {
   "cell_type": "markdown",
   "metadata": {},
   "source": [
    "#### Register Mordor DataFrame as a SQL temporary view"
   ]
  },
  {
   "cell_type": "code",
   "execution_count": 4,
   "metadata": {},
   "outputs": [],
   "source": [
    "mordor_file.createOrReplaceTempView(\"mordor_file\")"
   ]
  },
  {
   "cell_type": "markdown",
   "metadata": {},
   "source": [
    "### Validate Analytic I\n",
    "| FP Rate | Source | Analytic Logic | Description |\n",
    "|--------|---------|---------|---------|\n",
    "| Medium | Security | SELECT `@timestamp`, computer_name, SubjectUserName, ProcessName, ObjectName, AccessMask FROM mordor_file WHERE channel = \"Security\" AND event_id = 4656 AND ObjectType = \"Key\" AND lower(ObjectName) LIKE \"%sam\" | Monitor for any handle requested for the SAM registry hive |"
   ]
  },
  {
   "cell_type": "code",
   "execution_count": 5,
   "metadata": {},
   "outputs": [
    {
     "name": "stdout",
     "output_type": "stream",
     "text": [
      "+------------------------+---------------+---------------+---------------------------------------------------------+---------------------+----------+\n",
      "|@timestamp              |computer_name  |SubjectUserName|ProcessName                                              |ObjectName           |AccessMask|\n",
      "+------------------------+---------------+---------------+---------------------------------------------------------+---------------------+----------+\n",
      "|2019-06-25T17:22:26.789Z|HR001.shire.com|HR001$         |C:\\Windows\\System32\\WindowsPowerShell\\v1.0\\powershell.exe|\\REGISTRY\\MACHINE\\SAM|0x20019   |\n",
      "|2019-06-25T17:22:26.789Z|HR001.shire.com|HR001$         |C:\\Windows\\System32\\WindowsPowerShell\\v1.0\\powershell.exe|\\REGISTRY\\MACHINE\\SAM|0x20019   |\n",
      "|2019-06-25T17:22:26.789Z|HR001.shire.com|HR001$         |C:\\Windows\\System32\\WindowsPowerShell\\v1.0\\powershell.exe|\\REGISTRY\\MACHINE\\SAM|0x20019   |\n",
      "|2019-06-25T17:22:26.789Z|HR001.shire.com|HR001$         |C:\\Windows\\System32\\WindowsPowerShell\\v1.0\\powershell.exe|\\REGISTRY\\MACHINE\\SAM|0x20019   |\n",
      "|2019-06-25T17:22:26.790Z|HR001.shire.com|HR001$         |C:\\Windows\\System32\\WindowsPowerShell\\v1.0\\powershell.exe|\\REGISTRY\\MACHINE\\SAM|0x20019   |\n",
      "+------------------------+---------------+---------------+---------------------------------------------------------+---------------------+----------+\n",
      "only showing top 5 rows\n",
      "\n"
     ]
    }
   ],
   "source": [
    "security_handle_df = spark.sql(\n",
    "    '''\n",
    "    SELECT `@timestamp`, computer_name, SubjectUserName, ProcessName, ObjectName, AccessMask\n",
    "    FROM mordor_file\n",
    "    WHERE channel = \"Security\"\n",
    "        AND event_id = 4656\n",
    "        AND ObjectType = \"Key\"\n",
    "        AND lower(ObjectName) LIKE \"%sam\"\n",
    "    '''\n",
    ")\n",
    "security_handle_df.show(5,False)"
   ]
  },
  {
   "cell_type": "markdown",
   "metadata": {},
   "source": [
    "## Detection Blind Spots\n",
    "\n",
    "## Hunter Notes\n",
    "\n",
    "* Backup key can be displayed as base64 blob or exported as a .pvk file on disk (Mimikatz-like)\n",
    "* Windows security event 4692 (Backup of data protection master key was attempted) also generates every time a new DPAPI Master Key is generated\n",
    "* When a computer is a member of a domain, DPAPI has a backup mechanism to allow unprotection of the data. When a Master Key is generated, DPAPI communicates with a domain controller. \n",
    "\n",
    "## Hunt Output\n",
    "\n",
    "| Category | Type | Name |\n",
    "|--------|---------|---------|\n",
    "| Signature | Sigma Rule | [win_sam_registry_hive_handle_request.yml](https://github.com/Cyb3rWard0g/ThreatHunter-Playbook/tree/master/signatures/sigma/win_sam_registry_hive_handle_request.yml) |\n",
    "| Signature | Sigma Rule | [win_sam_registry_hive_dump_via_reg_utility.yml](https://github.com/Cyb3rWard0g/ThreatHunter-Playbook/tree/master/signatures/sigma/win_sam_registry_hive_dump_via_reg_utility.yml) |\n",
    "\n",
    "## Referennces\n",
    "\n",
    "* https://www.harmj0y.net/blog/redteaming/operational-guidance-for-offensive-user-dpapi-abuse/\n",
    "* https://digital-forensics.sans.org/summit-archives/dfirprague14/Give_Me_the_Password_and_Ill_Rule_the_World_Francesco_Picasso.pdf\n",
    "* https://docs.microsoft.com/en-us/windows/desktop/devnotes/pstore\n",
    "* https://github.com/gentilkiwi/mimikatz/blob/641a3b29acd326d07269300d94dceafea041f760/mimikatz/modules/kuhl_m_lsadump.c#L1907\n",
    "* https://github.com/GhostPack/SharpDPAPI/blob/6388040a92e59fc0d5a82b4ec31599aa6778fd3b/SharpDPAPI/lib/Backup.cs#L43\n",
    "* https://github.com/gentilkiwi/mimikatz/blob/641a3b29acd326d07269300d94dceafea041f760/mimikatz/modules/kuhl_m_lsadump.c#L1906-L1926\n",
    "* https://github.com/gentilkiwi/mimikatz/blob/641a3b29acd326d07269300d94dceafea041f760/mimikatz/modules/kuhl_m_lsadump.c#L1758\n",
    "* https://docs.microsoft.com/en-us/openspecs/windows_protocols/ms-lsad/88c6bd18-6c40-4a82-ae19-fe7bfec5108b"
   ]
  },
  {
   "cell_type": "code",
   "execution_count": null,
   "metadata": {},
   "outputs": [],
   "source": []
  }
 ],
 "metadata": {
  "kernelspec": {
   "display_name": "PySpark_Python3",
   "language": "python",
   "name": "pyspark3"
  },
  "language_info": {
   "codemirror_mode": {
    "name": "ipython",
    "version": 3
   },
   "file_extension": ".py",
   "mimetype": "text/x-python",
   "name": "python",
   "nbconvert_exporter": "python",
   "pygments_lexer": "ipython3",
   "version": "3.7.3"
  }
 },
 "nbformat": 4,
 "nbformat_minor": 4
}
