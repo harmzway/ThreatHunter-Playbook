{
 "cells": [
  {
   "cell_type": "markdown",
   "metadata": {},
   "source": [
    "# SysKey Registry Keys Access\n",
    "\n",
    "## Playbook Tags\n",
    "\n",
    "**ID:** WINDISC1906250246\n",
    "\n",
    "**Author:** Roberto Rodriguez [@Cyb3rWard0g](https://twitter.com/Cyb3rWard0g)\n",
    "\n",
    "**References:**\n",
    "\n",
    "## ATT&CK Tags\n",
    "\n",
    "**Tactic:** Discovery\n",
    "\n",
    "**Technique:** Query Registry (T1012)\n",
    "\n",
    "## Applies To\n",
    "\n",
    "## Technical Description\n",
    "\n",
    "Every computer that runs Windows has its own local domain; that is, it has an account database for accounts that are specific to that computer. Conceptually,this is an account database like any other with accounts, groups, SIDs, and so on. These are referred to as local accounts, local groups, and so on. Because computers typically do not trust each other for account information, these identities stay local to the computer on which they were created.\n",
    "\n",
    "Adversaries might use tools like Mimikatz with `lsadump::sam` commands or scripts such as [Invoke-PowerDump](https://github.com/EmpireProject/Empire/blob/master/data/module_source/credentials/Invoke-PowerDump.ps1) to get the SysKey to decrypt Security Account Mannager (SAM) database entries (from registry or hive) and get NTLM, and sometimes LM hashes of local accounts passwords.\n",
    "\n",
    "Adversaries can calculate the Syskey by using RegOpenKeyEx/RegQueryInfoKey API calls to query the appropriate class info and values from the HKLM:\\SYSTEM\\CurrentControlSet\\Control\\Lsa\\JD, HKLM:\\SYSTEM\\CurrentControlSet\\Control\\Lsa\\Skew1, HKLM:\\SYSTEM\\CurrentControlSet\\Control\\Lsa\\GBG, and HKLM:\\SYSTEM\\CurrentControlSet\\Control\\Lsa\\Data keys.\n",
    "\n",
    "### Additional Reading:\n",
    "\n",
    "* [Security Account Manager (SAM) Database](https://github.com/Cyb3rWard0g/ThreatHunter-Playbook/tree/master/library/security_account_manager_database.md)\n",
    "* [SysKey](https://github.com/Cyb3rWard0g/ThreatHunter-Playbook/tree/master/library/syskey.md)\n",
    "\n",
    "## Permission Required\n",
    "\n",
    "System\n",
    "\n",
    "## Hypothesis\n",
    "\n",
    "Adversaries might be calculating the SysKey from registry key values to decrypt SAM entries\n",
    "\n",
    "## Attack Simulation Dataset\n",
    "\n",
    "| Environment| Name | Description |\n",
    "|--------|---------|---------|\n",
    "| [Shire](https://github.com/Cyb3rWard0g/mordor/tree/acf9f6be6a386783a20139ceb2faf8146378d603/environment/shire) | [empire_mimikatz_lsadump_sam](https://github.com/Cyb3rWard0g/mordor/blob/master/small_datasets/windows/credential_access/credential_dumping_T1003/credentials_from_registry/empire_mimikatz_lsadump_sam.md) | A mordor dataset to simulate execution of Mimikatz module lsadump:sam to access specific registry keys to calculate the SysKey |\n",
    "| [Shire](https://github.com/Cyb3rWard0g/mordor/tree/acf9f6be6a386783a20139ceb2faf8146378d603/environment/shire) | [empire_powerdump](https://github.com/Cyb3rWard0g/mordor/blob/master/small_datasets/windows/credential_access/credential_dumping_T1003/credentials_from_registry/empire_powerdump.md) | A mordor dataset to simulate access to specific registry keys to calculate the SysKey |\n",
    "\n",
    "## Recommended Data Sources\n",
    "\n",
    "| Event ID | Event Name | Log Provider | Audit Category | Audit Sub-Category | ATT&CK Data Source |\n",
    "|---------|---------|----------|----------|---------|---------|\n",
    "| [4663](https://github.com/Cyb3rWard0g/OSSEM/blob/master/data_dictionaries/windows/security/events/event-4663.md) | An attempt was made to access an object | Microsoft-Windows-Security-Auditing | Object Access | Kernel Object | Windows Event Logs |\n",
    "| [4656](https://github.com/Cyb3rWard0g/OSSEM/blob/master/data_dictionaries/windows/security/events/event-4656.md) | A handle to an object was requested | Microsoft-Windows-Security-Auditing | Object Access | Kernel Object | Windows Event Logs |"
   ]
  },
  {
   "cell_type": "markdown",
   "metadata": {},
   "source": [
    "## Data Analytics\n",
    "### Initialize Analytics Engine"
   ]
  },
  {
   "cell_type": "code",
   "execution_count": 1,
   "metadata": {},
   "outputs": [],
   "source": [
    "from openhunt.logparser import winlogbeat\n",
    "from pyspark.sql import SparkSession"
   ]
  },
  {
   "cell_type": "code",
   "execution_count": 2,
   "metadata": {},
   "outputs": [
    {
     "name": "stdout",
     "output_type": "stream",
     "text": [
      "<pyspark.sql.session.SparkSession object at 0x7f24e57dcf98>\n"
     ]
    }
   ],
   "source": [
    "win = winlogbeat()\n",
    "spark = SparkSession.builder.appName(\"Mordor\").config(\"spark.sql.caseSensitive\", \"True\").getOrCreate()\n",
    "print(spark)"
   ]
  },
  {
   "cell_type": "markdown",
   "metadata": {},
   "source": [
    "#### Prepare & Process Mordor File"
   ]
  },
  {
   "cell_type": "code",
   "execution_count": 3,
   "metadata": {},
   "outputs": [
    {
     "name": "stdout",
     "output_type": "stream",
     "text": [
      "[+] Processing a Spark DataFrame..\n",
      "[+] Reading Mordor file..\n",
      "[+] Processing Data from Winlogbeat version 6..\n",
      "[+] DataFrame Returned !\n"
     ]
    }
   ],
   "source": [
    "mordor_file = win.extract_nested_fields(\"mordor/small_datasets/empire_mimikatz_lsadump_sam_2019-06-25103712.json\",spark)"
   ]
  },
  {
   "cell_type": "markdown",
   "metadata": {},
   "source": [
    "#### Register Mordor DataFrame as a SQL temporary view"
   ]
  },
  {
   "cell_type": "code",
   "execution_count": 4,
   "metadata": {},
   "outputs": [],
   "source": [
    "mordor_file.createOrReplaceTempView(\"mordor_file\")"
   ]
  },
  {
   "cell_type": "markdown",
   "metadata": {},
   "source": [
    "### Validate Analytic I\n",
    "| FP Rate | Source | Analytic Logic | Description |\n",
    "|--------|---------|---------|---------|\n",
    "| Low | Security | SELECT `@timestamp`, ProcessName, ObjectName, AccessMask, event_id FROM mordor_file WHERE channel = \"Security\" AND (event_id = 4656 OR event_id = 4663) AND ObjectType = \"Key\" AND (lower(ObjectName) LIKE \"%jd\" OR lower(ObjectName) LIKE \"%gbg\" OR lower(ObjectName) LIKE \"%data\" OR lower(ObjectName) LIKE \"%skew1\") | Look for handle requests and access operations to specific registry keys used to calculate the SysKey. SACLs are needed for them |"
   ]
  },
  {
   "cell_type": "code",
   "execution_count": 5,
   "metadata": {},
   "outputs": [
    {
     "name": "stdout",
     "output_type": "stream",
     "text": [
      "+------------------------+---------------------------------------------------------+--------------------------------------------------------+----------+--------+\n",
      "|@timestamp              |ProcessName                                              |ObjectName                                              |AccessMask|event_id|\n",
      "+------------------------+---------------------------------------------------------+--------------------------------------------------------+----------+--------+\n",
      "|2019-06-25T14:39:04.376Z|C:\\Windows\\System32\\WindowsPowerShell\\v1.0\\powershell.exe|\\REGISTRY\\MACHINE\\SYSTEM\\ControlSet001\\Control\\Lsa\\JD   |0x20019   |4656    |\n",
      "|2019-06-25T14:39:04.376Z|C:\\Windows\\System32\\WindowsPowerShell\\v1.0\\powershell.exe|\\REGISTRY\\MACHINE\\SYSTEM\\ControlSet001\\Control\\Lsa\\JD   |0x1       |4663    |\n",
      "|2019-06-25T14:39:04.376Z|C:\\Windows\\System32\\WindowsPowerShell\\v1.0\\powershell.exe|\\REGISTRY\\MACHINE\\SYSTEM\\ControlSet001\\Control\\Lsa\\Skew1|0x20019   |4656    |\n",
      "|2019-06-25T14:39:04.376Z|C:\\Windows\\System32\\WindowsPowerShell\\v1.0\\powershell.exe|\\REGISTRY\\MACHINE\\SYSTEM\\ControlSet001\\Control\\Lsa\\Skew1|0x1       |4663    |\n",
      "|2019-06-25T14:39:04.376Z|C:\\Windows\\System32\\WindowsPowerShell\\v1.0\\powershell.exe|\\REGISTRY\\MACHINE\\SYSTEM\\ControlSet001\\Control\\Lsa\\GBG  |0x20019   |4656    |\n",
      "|2019-06-25T14:39:04.376Z|C:\\Windows\\System32\\WindowsPowerShell\\v1.0\\powershell.exe|\\REGISTRY\\MACHINE\\SYSTEM\\ControlSet001\\Control\\Lsa\\GBG  |0x1       |4663    |\n",
      "|2019-06-25T14:39:04.376Z|C:\\Windows\\System32\\WindowsPowerShell\\v1.0\\powershell.exe|\\REGISTRY\\MACHINE\\SYSTEM\\ControlSet001\\Control\\Lsa\\Data |0x20019   |4656    |\n",
      "|2019-06-25T14:39:04.376Z|C:\\Windows\\System32\\WindowsPowerShell\\v1.0\\powershell.exe|\\REGISTRY\\MACHINE\\SYSTEM\\ControlSet001\\Control\\Lsa\\Data |0x1       |4663    |\n",
      "+------------------------+---------------------------------------------------------+--------------------------------------------------------+----------+--------+\n",
      "\n"
     ]
    }
   ],
   "source": [
    "security_access_df = spark.sql(\n",
    "    '''\n",
    "    SELECT `@timestamp`, ProcessName, ObjectName, AccessMask, event_id\n",
    "    FROM mordor_file\n",
    "    WHERE channel = \"Security\"\n",
    "        AND (event_id = 4656 OR event_id = 4663)\n",
    "        AND ObjectType = \"Key\"\n",
    "        AND (\n",
    "            lower(ObjectName) LIKE \"%jd\"\n",
    "            OR lower(ObjectName) LIKE \"%gbg\"\n",
    "            OR lower(ObjectName) LIKE \"%data\"\n",
    "            OR lower(ObjectName) LIKE \"%skew1\"\n",
    "        )\n",
    "    '''\n",
    ")\n",
    "security_access_df.show(10,False)"
   ]
  },
  {
   "cell_type": "markdown",
   "metadata": {},
   "source": [
    "## Detection Blind Spots\n",
    "\n",
    "* Apparently the registry keys needed to calculate the SysKey are accessed by processes such as smss.exe, winlogon.exe and syskey.exe, but when the system boots. An adversary can migrate to those processes to blend in.\n",
    "\n",
    "## Hunter Notes\n",
    "\n",
    "* An audit rule needs to be added to the SACL of the following keys to monitor for ReadKey rights:\n",
    "    * HKLM:\\SYSTEM\\CurrentControlSet\\Control\\Lsa\\JD\n",
    "    * HKLM:\\SYSTEM\\CurrentControlSet\\Control\\Lsa\\Skew1\n",
    "    * HKLM:\\SYSTEM\\CurrentControlSet\\Control\\Lsa\\GBG\n",
    "    * HKLM:\\SYSTEM\\CurrentControlSet\\Control\\Lsa\\Data\n",
    "* Defenders can correlate known processes accessing those registry keys with events that tell you when the system boots up.\n",
    "* Look for the same process accessing all those registry keys in a short period of time.\n",
    "\n",
    "## Hunt Output\n",
    "\n",
    "| Category | Type | Name |\n",
    "|--------|---------|---------|\n",
    "| Signature | Sigma Rule | [win_syskey_registry_access.yml](https://github.com/Cyb3rWard0g/ThreatHunter-Playbook/tree/master/signatures/sigma/win_syskey_registry_access.yml) |\n",
    "\n",
    "## Referennces\n",
    "\n",
    "* https://github.com/gentilkiwi/mimikatz/wiki/module-~-lsadump\n",
    "* https://adsecurity.org/?page_id=1821#LSADUMPSAM\n",
    "* http://www.harmj0y.net/blog/activedirectory/remote-hash-extraction-on-demand-via-host-security-descriptor-modification/\n",
    "* https://docs.microsoft.com/en-us/dotnet/api/system.security.accesscontrol.registryrights?view=netframework-4.8\n",
    "* https://docs.microsoft.com/en-us/windows/desktop/sysinfo/registry-key-security-and-access-rights"
   ]
  },
  {
   "cell_type": "code",
   "execution_count": null,
   "metadata": {},
   "outputs": [],
   "source": []
  }
 ],
 "metadata": {
  "kernelspec": {
   "display_name": "PySpark_Python3",
   "language": "python",
   "name": "pyspark3"
  },
  "language_info": {
   "codemirror_mode": {
    "name": "ipython",
    "version": 3
   },
   "file_extension": ".py",
   "mimetype": "text/x-python",
   "name": "python",
   "nbconvert_exporter": "python",
   "pygments_lexer": "ipython3",
   "version": "3.7.3"
  }
 },
 "nbformat": 4,
 "nbformat_minor": 4
}
