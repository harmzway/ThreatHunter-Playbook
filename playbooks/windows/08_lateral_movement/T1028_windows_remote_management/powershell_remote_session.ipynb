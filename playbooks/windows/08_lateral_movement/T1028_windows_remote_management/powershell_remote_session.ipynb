{
 "cells": [
  {
   "cell_type": "markdown",
   "metadata": {},
   "source": [
    "# PowerShell Remote Session\n",
    "\n",
    "## Playbook Tags\n",
    "\n",
    "**ID:** WINEXEC1905112233\n",
    "\n",
    "**Author:** Roberto Rodriguez [@Cyb3rWard0g](https://twitter.com/Cyb3rWard0g)\n",
    "\n",
    "**References:** WINEXEC1904101010\n",
    "\n",
    "## ATT&CK Tags\n",
    "\n",
    "**Tactic:** Execution, Lateral Movement\n",
    "\n",
    "**Technique:** PowerShell (T1086), Windows Remote Management (T1028)\n",
    "\n",
    "## Applies To\n",
    "\n",
    "## Technical Description\n",
    "\n",
    "Adversaries can use PowerShell to perform a number of actions, including discovery of information and execution of code. In addition, it can be used to execute code remotely via Windows Remote Management (WinRM) services. Therefore, it is important to understand the basic artifacts left when PowerShell is used to execute code remotely via a remote powershell session.\n",
    "\n",
    "## Permission Required\n",
    "\n",
    "Administrator\n",
    "\n",
    "## Hypothesis\n",
    "\n",
    "Adversaries might be leveraging remote powershell sessions to execute code on remote systems throughout my environment\n",
    "\n",
    "## Attack Simulation Dataset\n",
    "\n",
    "| Environment| Name | Description |\n",
    "|--------|---------|---------|\n",
    "| [Shire](https://github.com/Cyb3rWard0g/mordor/tree/acf9f6be6a386783a20139ceb2faf8146378d603/environment/shire) | [empire_invoke_psremoting](https://github.com/Cyb3rWard0g/mordor/blob/acf9f6be6a386783a20139ceb2faf8146378d603/small_datasets/windows/execution/powershell_T1086/empire_invoke_psremoting.md) | A mordor dataset to simulate adversaries moving laterally via PSRemoting |\n",
    "\n",
    "## Recommended Data Sources\n",
    "\n",
    "| Event ID | Event Name | Log Provider | Audit Category | Audit Sub-Category | ATT&CK Data Source |\n",
    "|---------|---------|----------|----------|---------|---------|\n",
    "| [4688](https://github.com/Cyb3rWard0g/OSSEM/blob/master/data_dictionaries/windows/security/events/event-4688.md) | A new process has been created | Microsoft-Windows-Security-Auditing | Detailed Tracking | Process Creation | Windows Event Logs |\n",
    "| [1](https://github.com/Cyb3rWard0g/OSSEM/blob/master/data_dictionaries/windows/sysmon/event-1.md) | Process Creation | Microsoft-Windows-Sysmon | | | Process Monitoring |\n",
    "| [3](https://github.com/Cyb3rWard0g/OSSEM/blob/master/data_dictionaries/windows/sysmon/event-3.md) | network Connect | Microsoft-Windows-Sysmon | | | Process use of network |\n",
    "| [5156](https://docs.microsoft.com/en-us/windows/security/threat-protection/auditing/event-5156) | The Windows Filtering Platform has permitted a connection | Microsoft-Windows-Security-Auditing | Object Access | Filtering Platform Connection | Windows Event Logs |\n",
    "| [5158](https://docs.microsoft.com/en-us/windows/security/threat-protection/auditing/event-5158) | The Windows Filtering Platform has permitted a bind to a local port | Microsoft-Windows-Security-Auditing | Object Access | Filtering Platform Connection | Windows Event Logs |\n",
    "| [400](https://github.com/Cyb3rWard0g/OSSEM/blob/master/data_dictionaries/windows/powershell/events/event-400.md) | Engine Lifecycle | Windows PowerShell | | | PowerShell Logs |\n",
    "| [4103](https://github.com/Cyb3rWard0g/OSSEM/blob/master/data_dictionaries/windows/powershell/events/event-4103.md) | Module Logging | Microsoft-Windows-PowerShell |  |  | PowerShell Logs |"
   ]
  },
  {
   "cell_type": "markdown",
   "metadata": {},
   "source": [
    "## Data Analytics\n",
    "### Initialize Analytics Engine"
   ]
  },
  {
   "cell_type": "code",
   "execution_count": 1,
   "metadata": {},
   "outputs": [],
   "source": [
    "from openhunt.logparser import winlogbeat\n",
    "from pyspark.sql import SparkSession"
   ]
  },
  {
   "cell_type": "code",
   "execution_count": 2,
   "metadata": {},
   "outputs": [
    {
     "name": "stdout",
     "output_type": "stream",
     "text": [
      "<pyspark.sql.session.SparkSession object at 0x7fa9fe992208>\n"
     ]
    }
   ],
   "source": [
    "win = winlogbeat()\n",
    "spark = SparkSession.builder.appName(\"Mordor\").config(\"spark.sql.caseSensitive\", \"True\").getOrCreate()\n",
    "print(spark)"
   ]
  },
  {
   "cell_type": "markdown",
   "metadata": {},
   "source": [
    "#### Prepare & Process Mordor File"
   ]
  },
  {
   "cell_type": "code",
   "execution_count": 3,
   "metadata": {},
   "outputs": [
    {
     "name": "stdout",
     "output_type": "stream",
     "text": [
      "[+] Processing a Spark DataFrame..\n",
      "[+] Reading Mordor file..\n",
      "[+] Processing Data from Winlogbeat version 6..\n",
      "[+] DataFrame Returned !\n"
     ]
    }
   ],
   "source": [
    "mordor_file = win.extract_nested_fields(\"mordor/small_datasets/empire_invoke_psremoting_2019-05-18211456.json\",spark)"
   ]
  },
  {
   "cell_type": "markdown",
   "metadata": {},
   "source": [
    "#### Register Mordor DataFrame as a SQL temporary view"
   ]
  },
  {
   "cell_type": "code",
   "execution_count": 4,
   "metadata": {},
   "outputs": [],
   "source": [
    "mordor_file.createOrReplaceTempView(\"mordor_file\")"
   ]
  },
  {
   "cell_type": "markdown",
   "metadata": {},
   "source": [
    "### Validate Analytic I\n",
    "| FP Rate | Source | Analytic Logic | Description |\n",
    "|--------|---------|---------|---------|\n",
    "| Medium | PowerShell | SELECT `@timestamp`, computer_name, channel FROM mordor_file WHERE (channel = \"Microsoft-Windows-PowerShell/Operational\" OR channel = \"Windows PowerShell\") AND (event_id = 400 OR event_id = 4103) AND message LIKE \"%Host Application%wsmprovhost%\" | Process wsmprovhost hosts the active remote session on the target. Therefore, it is important to monitor for any the initialization of the PowerShell host wsmprovhost |"
   ]
  },
  {
   "cell_type": "code",
   "execution_count": 5,
   "metadata": {},
   "outputs": [
    {
     "name": "stdout",
     "output_type": "stream",
     "text": [
      "+------------------------+---------------+----------------------------------------+\n",
      "|@timestamp              |computer_name  |channel                                 |\n",
      "+------------------------+---------------+----------------------------------------+\n",
      "|2019-05-18T21:15:36.218Z|IT001.shire.com|Microsoft-Windows-PowerShell/Operational|\n",
      "+------------------------+---------------+----------------------------------------+\n",
      "\n"
     ]
    }
   ],
   "source": [
    "powershell_df = spark.sql(\n",
    "    '''\n",
    "    SELECT `@timestamp`, computer_name, channel\n",
    "    FROM mordor_file\n",
    "    WHERE (channel = \"Microsoft-Windows-PowerShell/Operational\" OR channel = \"Windows PowerShell\")\n",
    "        AND (event_id = 400 OR event_id = 4103)\n",
    "        AND message LIKE \"%Host Application%wsmprovhost%\"\n",
    "    '''\n",
    ")\n",
    "powershell_df.show(5,False)"
   ]
  },
  {
   "cell_type": "markdown",
   "metadata": {},
   "source": [
    "### Validate Analytic II\n",
    "| FP Rate | Source | Analytic Logic | Description |\n",
    "|--------|---------|---------|---------|\n",
    "| Low | Security | SELECT `@timestamp`, computer_name, Application, SourcePort, DestAddress, LayerName, LayerRTID FROM mordor_file WHERE channel = \"Security\" AND event_id = 5156 AND (DestPort = 5985 OR DestPort = 5986) AND LayerRTID = 44 | Monitor for any incoming network connection where the destination port is either 5985 or 5986. That will be hosted most likely by the System process. Layer ID:44 |"
   ]
  },
  {
   "cell_type": "code",
   "execution_count": 6,
   "metadata": {},
   "outputs": [
    {
     "name": "stdout",
     "output_type": "stream",
     "text": [
      "+------------------------+---------------+-----------+-------------+-------------+---------+---------+\n",
      "|@timestamp              |computer_name  |Application|SourceAddress|DestAddress  |LayerName|LayerRTID|\n",
      "+------------------------+---------------+-----------+-------------+-------------+---------+---------+\n",
      "|2019-05-18T21:15:34.303Z|IT001.shire.com|System     |172.18.39.106|172.18.39.105|%%14610  |44       |\n",
      "|2019-05-18T21:15:35.228Z|IT001.shire.com|System     |172.18.39.106|172.18.39.105|%%14610  |44       |\n",
      "|2019-05-18T21:15:35.618Z|IT001.shire.com|System     |172.18.39.106|172.18.39.105|%%14610  |44       |\n",
      "+------------------------+---------------+-----------+-------------+-------------+---------+---------+\n",
      "\n"
     ]
    }
   ],
   "source": [
    "security_network_df = spark.sql(\n",
    "    '''\n",
    "    SELECT `@timestamp`, computer_name, Application, SourceAddress, DestAddress, LayerName, LayerRTID\n",
    "    FROM mordor_file\n",
    "    WHERE channel = \"Security\"\n",
    "        AND event_id = 5156\n",
    "        AND (DestPort = 5985 OR DestPort = 5986)\n",
    "        AND LayerRTID = 44\n",
    "    '''\n",
    ")\n",
    "security_network_df.show(50,False)"
   ]
  },
  {
   "cell_type": "markdown",
   "metadata": {},
   "source": [
    "### Validate Analytic III\n",
    "| FP Rate | Source | Analytic Logic | Description |\n",
    "|--------|---------|---------|---------|\n",
    "| Low | Security | SELECT `@timestamp`, computer_name, ParentProcessName, NewProcessName FROM mordor_file WHERE channel = \"Security\" AND event_id = 4688 AND (ParentProcessName LIKE \"%wsmprovhost.exe\" OR NewProcessName LIKE \"%wsmprovhost.exe\") | Process wsmprovhost hosts the active remote session on the target. Therefore, from a process creation perspective, it is to document any instances of wsmprovhost being spawned and spawning other processes |"
   ]
  },
  {
   "cell_type": "code",
   "execution_count": 7,
   "metadata": {},
   "outputs": [
    {
     "name": "stdout",
     "output_type": "stream",
     "text": [
      "+------------------------+---------------+-----------------------------------+---------------------------------------------------------+\n",
      "|@timestamp              |computer_name  |ParentProcessName                  |NewProcessName                                           |\n",
      "+------------------------+---------------+-----------------------------------+---------------------------------------------------------+\n",
      "|2019-05-18T21:15:34.608Z|IT001.shire.com|C:\\Windows\\System32\\svchost.exe    |C:\\Windows\\System32\\wsmprovhost.exe                      |\n",
      "|2019-05-18T21:15:35.882Z|IT001.shire.com|C:\\Windows\\System32\\wsmprovhost.exe|C:\\Windows\\System32\\WindowsPowerShell\\v1.0\\powershell.exe|\n",
      "+------------------------+---------------+-----------------------------------+---------------------------------------------------------+\n",
      "\n"
     ]
    }
   ],
   "source": [
    "security_process_df = spark.sql(\n",
    "    '''\n",
    "    SELECT `@timestamp`, computer_name, ParentProcessName, NewProcessName\n",
    "    FROM mordor_file\n",
    "    WHERE channel = \"Security\"\n",
    "        AND event_id = 4688\n",
    "        AND (ParentProcessName LIKE \"%wsmprovhost.exe\" OR NewProcessName LIKE \"%wsmprovhost.exe\")\n",
    "    '''\n",
    ")\n",
    "security_process_df.show(10, False)"
   ]
  },
  {
   "cell_type": "markdown",
   "metadata": {},
   "source": [
    "### Validate Analytic IV\n",
    "| FP Rate | Source | Analytic Logic | Description |\n",
    "|--------|---------|---------|---------|\n",
    "| Low | Sysmon | SELECT `@timestamp`, computer_name, ParentImage, Image FROM mordor_file WHERE channel = \"Microsoft-Windows-Sysmon/Operational\" AND event_id = 1 AND (ParentImage LIKE \"%wsmprovhost.exe\" OR Image LIKE \"%wsmprovhost.exe\") | Process wsmprovhost hosts the active remote session on the target. Therefore, from a process creation perspective, it is to document any instances of wsmprovhost being spawned and spawning other processes |"
   ]
  },
  {
   "cell_type": "code",
   "execution_count": 8,
   "metadata": {},
   "outputs": [
    {
     "name": "stdout",
     "output_type": "stream",
     "text": [
      "+------------------------+---------------+-----------------------------------+---------------------------------------------------------+\n",
      "|@timestamp              |computer_name  |ParentImage                        |Image                                                    |\n",
      "+------------------------+---------------+-----------------------------------+---------------------------------------------------------+\n",
      "|2019-05-18T21:15:34.611Z|IT001.shire.com|C:\\Windows\\System32\\svchost.exe    |C:\\Windows\\System32\\wsmprovhost.exe                      |\n",
      "|2019-05-18T21:15:35.884Z|IT001.shire.com|C:\\Windows\\System32\\wsmprovhost.exe|C:\\Windows\\System32\\WindowsPowerShell\\v1.0\\powershell.exe|\n",
      "+------------------------+---------------+-----------------------------------+---------------------------------------------------------+\n",
      "\n"
     ]
    }
   ],
   "source": [
    "sysmon_process_df = spark.sql(\n",
    "    '''\n",
    "    SELECT `@timestamp`, computer_name, ParentImage, Image\n",
    "    FROM mordor_file\n",
    "    WHERE channel = \"Microsoft-Windows-Sysmon/Operational\"\n",
    "        AND event_id = 1\n",
    "        AND (ParentImage LIKE \"%wsmprovhost.exe\" OR Image LIKE \"%wsmprovhost.exe\")\n",
    "    '''\n",
    ")\n",
    "sysmon_process_df.show(10, False)"
   ]
  },
  {
   "cell_type": "markdown",
   "metadata": {},
   "source": [
    "### Validate Analytic V\n",
    "| FP Rate | Source | Analytic Logic | Description |\n",
    "|--------|---------|---------|---------|\n",
    "| Low | Sysmon | SELECT `@timestamp`, computer_name, User, Initiated, Image, SourceIp, DestinationIp FROM mordor_file WHERE channel = \"Microsoft-Windows-Sysmon/Operational\" AND event_id = 3 AND (DestinationPort = 5985 OR DestinationPort = 5986) AND NOT User = \"NT AUTHORITY\\\\\\\\NETWORK SERVICE\" | Monitor for outbound network connection where the destination port is either 5985 or 5986 and the use is not NT AUTHORITY\\NETWORK SERVICE |\n"
   ]
  },
  {
   "cell_type": "code",
   "execution_count": 9,
   "metadata": {},
   "outputs": [
    {
     "name": "stdout",
     "output_type": "stream",
     "text": [
      "+------------------------+---------------+--------------+---------+---------------------------------------------------------+-------------+-------------+\n",
      "|@timestamp              |computer_name  |User          |Initiated|Image                                                    |SourceIp     |DestinationIp|\n",
      "+------------------------+---------------+--------------+---------+---------------------------------------------------------+-------------+-------------+\n",
      "|2019-05-18T21:15:35.319Z|HR001.shire.com|SHIRE\\pgustavo|true     |C:\\Windows\\System32\\WindowsPowerShell\\v1.0\\powershell.exe|172.18.39.106|172.18.39.105|\n",
      "|2019-05-18T21:15:36.444Z|HR001.shire.com|SHIRE\\pgustavo|true     |C:\\Windows\\System32\\WindowsPowerShell\\v1.0\\powershell.exe|172.18.39.106|172.18.39.105|\n",
      "|2019-05-18T21:15:36.704Z|HR001.shire.com|SHIRE\\pgustavo|true     |C:\\Windows\\System32\\WindowsPowerShell\\v1.0\\powershell.exe|172.18.39.106|172.18.39.105|\n",
      "+------------------------+---------------+--------------+---------+---------------------------------------------------------+-------------+-------------+\n",
      "\n"
     ]
    }
   ],
   "source": [
    "sysmon_network_df = spark.sql(\n",
    "    '''\n",
    "    SELECT `@timestamp`, computer_name, User, Initiated, Image, SourceIp, DestinationIp\n",
    "    FROM mordor_file\n",
    "    WHERE channel = \"Microsoft-Windows-Sysmon/Operational\"\n",
    "        AND event_id = 3\n",
    "        AND (DestinationPort = 5985 OR DestinationPort = 5986)\n",
    "        AND NOT User = \"NT AUTHORITY\\\\\\\\NETWORK SERVICE\"\n",
    "    '''\n",
    ")\n",
    "sysmon_network_df.show(10, False)"
   ]
  },
  {
   "cell_type": "markdown",
   "metadata": {},
   "source": [
    "## Detection Blind Spots\n",
    "\n",
    "## Hunter Notes\n",
    "\n",
    "* Explore the data produced in your lab environment with the analytics above and document what normal looks like from a PowerShell perspective. Then, take your findings and explore your production environment.\n",
    "* If powershell activity locally or remotely via winrm happens all the time in  your environment, I suggest to categorize the data you collect by business unit or department to document profiles.\n",
    "* Layer 44 translatest to layer filter FWPM_LAYER_ALE_AUTH_RECV_ACCEPT_V4 / FWPM_LAYER_ALE_AUTH_RECV_ACCEPT_V6. This filtering layer allows for authorizing accept requests for incoming TCP connections, as well as authorizing incoming non-TCP traffic based on the first packet received. Looking for destination ports related to remote PowerShell Sessions and Layer 44 is very helpful.\n",
    "\n",
    "## Hunt Output\n",
    "\n",
    "| Category | Type | Name |\n",
    "|--------|---------|---------|\n",
    "| Signature | Sigma Rule | [powershell_remote_powershell_session.yml](https://github.com/Cyb3rWard0g/ThreatHunter-Playbook/tree/master/signatures/sigma/powershell_remote_powershell_session.yml) |\n",
    "| Signature | Sigma Rule | [sysmon_remote_powershell_session_network.yml](https://github.com/Cyb3rWard0g/ThreatHunter-Playbook/tree/master/signatures/sigma/sysmon_remote_powershell_session_network.yml) |\n",
    "| Signature | Sigma Rule | [sysmon_remote_powershell_session_process.yml](https://github.com/Cyb3rWard0g/ThreatHunter-Playbook/tree/master/signatures/sigma/sysmon_remote_powershell_session_process.yml) |\n",
    "| Signature | Sigma Rule | [win_remote_powershell_session.yml](https://github.com/Cyb3rWard0g/ThreatHunter-Playbook/tree/master/signatures/sigma/win_remote_powershell_session.yml) |\n",
    "\n",
    "## References\n",
    "\n",
    "* https://docs.microsoft.com/en-us/powershell/scripting/learn/remoting/running-remote-commands?view=powershell-6#windows-powershell-remoting\n",
    "* https://docs.microsoft.com/en-us/powershell/module/microsoft.powershell.core/about/about_remote_requirements?view=powershell-6\n",
    "* https://docs.microsoft.com/en-us/windows/win32/fwp/management-filtering-layer-identifiers-"
   ]
  },
  {
   "cell_type": "code",
   "execution_count": null,
   "metadata": {},
   "outputs": [],
   "source": []
  }
 ],
 "metadata": {
  "kernelspec": {
   "display_name": "PySpark_Python3",
   "language": "python",
   "name": "pyspark3"
  },
  "language_info": {
   "codemirror_mode": {
    "name": "ipython",
    "version": 3
   },
   "file_extension": ".py",
   "mimetype": "text/x-python",
   "name": "python",
   "nbconvert_exporter": "python",
   "pygments_lexer": "ipython3",
   "version": "3.7.3"
  }
 },
 "nbformat": 4,
 "nbformat_minor": 4
}
